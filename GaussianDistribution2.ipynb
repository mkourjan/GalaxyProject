{
 "metadata": {
  "name": "",
  "signature": "sha256:4ea86c4e3299dd1291383f574db2f2cc606161396774e66da489cae7a4295cdb"
 },
 "nbformat": 3,
 "nbformat_minor": 0,
 "worksheets": [
  {
   "cells": [
    {
     "cell_type": "code",
     "collapsed": false,
     "input": [
      "%pylab inline\n",
      "import numpy as np\n",
      "import matplotlib.pyplot as plt\n",
      "from scipy.integrate import odeint\n",
      "from IPython.html.widgets import interact, interactive\n",
      "import random"
     ],
     "language": "python",
     "metadata": {},
     "outputs": [
      {
       "output_type": "stream",
       "stream": "stdout",
       "text": [
        "Populating the interactive namespace from numpy and matplotlib\n"
       ]
      }
     ],
     "prompt_number": 1
    },
    {
     "cell_type": "code",
     "collapsed": false,
     "input": [
      "n = 120\n",
      "\n",
      "M = 1e11 #solar masses\n",
      "S = 1e11\n",
      "G = 4.49955370898e-08 #kpc^3 Msol^-1 (10^8 years)^-2\n",
      "\n",
      "\n",
      "Rs = 50\n",
      "r = np.arange(0,100, 0.1)\n",
      "lim = 0.1\n",
      "def Prob_rad(r, Rs, lim):\n",
      "    return lim / ((r/Rs + lim)* (1 + (r/Rs)) ** 2)\n",
      "a = Prob_rad(r, 50, 1)\n",
      "plt.plot(r, a)\n",
      "plt.show()"
     ],
     "language": "python",
     "metadata": {},
     "outputs": [
      {
       "metadata": {},
       "output_type": "display_data",
       "png": "[encoded data removed]",
       "text": [
        "<matplotlib.figure.Figure at 0xab39a20>"
       ]
      }
     ],
     "prompt_number": 2
    },
    {
     "cell_type": "code",
     "collapsed": false,
     "input": [
      "def Star_Gen(Rs, lim, n, ran):\n",
      "    ''' -Rs affects how dense the stars are in the center.  \n",
      "    Low Rs values give me a dense center, high values give me a spreadout center.\n",
      "    -The lower lim is, the closer the probability distribution is to to the origin.\n",
      "    -n is how many stars we generate.\n",
      "    -ran is the maximum radius.\n",
      "    -The function outputs random radiuses that are based on a distribution.\n",
      "    '''\n",
      "    radius = []\n",
      "    for i in range(n):\n",
      "        #r is the random radius of the star from the center of mass\n",
      "        r = random.random() * ran \n",
      "        #Pr is the probability of finding a star at a particular radius.\n",
      "        pr = Prob_rad(r, Rs, lim)\n",
      "        #s are randomly generated numbers that filter out which stars get graphed \n",
      "        #by checking if it falls below the probability distribution graph.\n",
      "        s = random.random()\n",
      "        #While s is greater than pr, generate more r and Pr and s values.  \n",
      "        #When s becomes less than pr, append that to the radius list.\n",
      "        while s > pr :\n",
      "            r = random.random() * ran\n",
      "            Pr = Prob_rad(r, Rs, lim)\n",
      "            s = random.random()\n",
      "        radius.append(r)\n",
      "    return np.array(radius)"
     ],
     "language": "python",
     "metadata": {},
     "outputs": [],
     "prompt_number": 3
    },
    {
     "cell_type": "code",
     "collapsed": false,
     "input": [
      "def theta(n):\n",
      "    '''The theta function takes n(the number of stars) as an imput\n",
      "    and returns random theta angles to randomly distribute those stars.'''\n",
      "    theta = []\n",
      "    for i in range(n):\n",
      "        t = random.random() * 2 * np.pi\n",
      "        theta.append(t)\n",
      "    return np.array(theta)"
     ],
     "language": "python",
     "metadata": {},
     "outputs": [],
     "prompt_number": 4
    },
    {
     "cell_type": "code",
     "collapsed": false,
     "input": [],
     "language": "python",
     "metadata": {},
     "outputs": []
    }
   ],
   "metadata": {}
  }
 ]
}