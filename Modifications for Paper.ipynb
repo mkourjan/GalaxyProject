{
 "cells": [
  {
   "cell_type": "code",
   "execution_count": null,
   "metadata": {
    "collapsed": true
   },
   "outputs": [],
   "source": [
    "%pylab inline"
   ]
  },
  {
   "cell_type": "markdown",
   "metadata": {},
   "source": [
    "To begin with, the stationary galaxy containing stars is set at the origin.  The bulk of this galaxy is represented as a point mass, which means that all of its mass is concentrated at a point in its center.  The galaxy contains 120 unit-mass stars which are initially distributed throughout 5 discrete, concentric rings around the galaxy.  Each ring contains 12, 18, 24, 30, and 36 stars respectively (the inner most ring contains 12 stars).  For the direct passage, retrograde passage, and light mass disruptor cases the concentric rings are placed at exactly 20, 30, 40, 50, and 60 percent of the minimum distance between the two galaxies $R_{min}$, as shown in Figure 3. \n",
    "\n",
    "<img src = \"DirectPassageImage.png\" width = 300>\n",
    "\n",
    "<center>**Figure 3:** Locations of stars in stationary galaxy for direct, retrograde and light mass disruptor cases.</center>\n",
    "\n",
    "On the other hand, in the heavy mass disruptor case the rings are more tightly placed at 12, 18, 24, 30, and 36 percent of $R_{min}$, as in Figure 4.\n",
    "\n",
    "\n",
    "<img src = \"HeavyPassageImage.png\" width = 300>\n",
    "\n",
    "<center>**Figure 4:** Stationary galaxy for heavy mass disruptor case.</center>\n",
    "\n",
    "In all cases this minimum distance ($R_{min}$) is set at 25 kpc.  The initial time was set to $t$ = 0 and the time step was set to exactly $10^8$ years.  In all of the featured cases, the heavier mass was set to $10^{11}$ solar masses.  To compute and visualize the simulations, several Python-based numerical tools in the NumPy, Matplotlib, and SciPy packages were used, including SciPy's `odeint` differential equation integrator and the iPython interact features.  \n",
    "\n",
    "The program must set initial conditions for the disturbing galaxy and for the stationary galaxy.The functions must be written so that the initial position and mass of the disturbing galaxy can be varied and the resulting trajectory is parabolic. The mass of the stationary galaxy must also be allowed to vary, and it will remain orbiting around the origin unless disturbed.  The program must calculate the new positions and velocities of the stars at each timestep.  The calculations should be run one time in their entirety and the results should be stored in an array for plotting and quick referencing.  Next the trajectories are plotted using an iPython `interact` widget tool that allows the user to slide through all of the calculated time steps and observe the evolution of the galaxies in a movie-like layout.   If the computer had to generate the data again with each displacement of the widget slider, the process would be lengthy because the calculations take some time to compute.\n",
    "\n",
    "\n",
    "\n",
    "\n",
    "\n",
    "\n",
    "\n",
    "\n",
    "\n",
    "\n"
   ]
  },
  {
   "cell_type": "markdown",
   "metadata": {
    "collapsed": true
   },
   "source": [
    "<img src = \"subplot.png\" width = 400>\n",
    "\n",
    "<center>**Figure 5:** Four time steps showing time evolution of the star distribution as the two galaxies interact through a direct passage.</center>"
   ]
  },
  {
   "cell_type": "markdown",
   "metadata": {
    "collapsed": true
   },
   "source": [
    "The stars in the direct passage case are distributed along trajectories shown in Figure 5."
   ]
  },
  {
   "cell_type": "code",
   "execution_count": null,
   "metadata": {
    "collapsed": true
   },
   "outputs": [],
   "source": []
  }
 ],
 "metadata": {
  "kernelspec": {
   "display_name": "Python 3",
   "language": "python",
   "name": "python3"
  },
  "language_info": {
   "codemirror_mode": {
    "name": "ipython",
    "version": 3
   },
   "file_extension": ".py",
   "mimetype": "text/x-python",
   "name": "python",
   "nbconvert_exporter": "python",
   "pygments_lexer": "ipython3",
   "version": "3.5.1"
  }
 },
 "nbformat": 4,
 "nbformat_minor": 0
}
