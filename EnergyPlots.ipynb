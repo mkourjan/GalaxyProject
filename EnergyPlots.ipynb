{
 "metadata": {
  "name": "",
  "signature": "sha256:4719ff876a64d60754e4ad882e8a4d86dc2b7187c91bb38f2d7550e3c505bbe3"
 },
 "nbformat": 3,
 "nbformat_minor": 0,
 "worksheets": [
  {
   "cells": [
    {
     "cell_type": "code",
     "collapsed": false,
     "input": [
      "%pylab inline\n",
      "import numpy as np\n",
      "import matplotlib.pyplot as plt\n",
      "from scipy.integrate import odeint\n",
      "from IPython.html.widgets import interact, interactive"
     ],
     "language": "python",
     "metadata": {},
     "outputs": [
      {
       "output_type": "stream",
       "stream": "stdout",
       "text": [
        "Populating the interactive namespace from numpy and matplotlib\n"
       ]
      },
      {
       "output_type": "stream",
       "stream": "stderr",
       "text": [
        "WARNING: pylab import has clobbered these variables: ['interactive']\n",
        "`%matplotlib` prevents importing * from pylab and numpy\n"
       ]
      }
     ],
     "prompt_number": 7
    },
    {
     "cell_type": "code",
     "collapsed": false,
     "input": [
      "pi = np.pi\n",
      "def ring(particles,radius,G,M):\n",
      "    particle = []\n",
      "    velocity = []\n",
      "    theta_n = 0\n",
      "    arclen = (2*pi)/particles              ## Arc length equally divided amongst the number of particles around circle\n",
      "    v = sqrt((G*M)/radius)                 ## Velocity for central force to stay in a circular orbit\n",
      "    while len(particle) < particles:\n",
      "        angle = theta_n*arclen\n",
      "        beta = angle + (pi/2.)          ## Angle beta = angle of the position plus 90 degrees, for velocity vector\n",
      "        theta_n += 1\n",
      "        particle.append((radius*np.cos(angle), radius*np.sin(angle)))   ## x = r*cos(theta)  y = r*sin(theta)\n",
      "        velocity.append((v*np.cos(beta), v*np.sin(beta)))               ## Same concept here as above.\n",
      "    return np.array(particle),np.array(velocity)            ## Returns two arrays, particle position and velocity."
     ],
     "language": "python",
     "metadata": {},
     "outputs": [],
     "prompt_number": 8
    },
    {
     "cell_type": "code",
     "collapsed": false,
     "input": [
      "def init_rings(G,M):\n",
      "    ring1,velocity1 = ring(12,.2,G,M)     ## All of these are dependent on details found in the paper by Toomre et al.\n",
      "    ring2,velocity2 = ring(18,.3,G,M)\n",
      "    ring3,velocity3 = ring(24,.4,G,M)\n",
      "    ring4,velocity4 = ring(30,.5,G,M)\n",
      "    ring5,velocity5 = ring(36,.6,G,M)\n",
      "    rings = np.array([ring1,ring2,ring3,ring4,ring5])\n",
      "    velocity = np.array([velocity1,velocity2,velocity3,velocity4,velocity5])\n",
      "    return rings,velocity             ## Returns arrays of both the positions and velocity."
     ],
     "language": "python",
     "metadata": {},
     "outputs": [],
     "prompt_number": 9
    },
    {
     "cell_type": "code",
     "collapsed": false,
     "input": [
      "def unpack_rings_vel(rings,velocity):\n",
      "    rx_points = []                             ## x-coordinates of all massless particles\n",
      "    ry_points = []                             ## y-coordinates\n",
      "    vrx = []                                   ## initial x velocity\n",
      "    vry = []                                   ## initial y velocity\n",
      "    for ring in rings:\n",
      "        for point in ring:\n",
      "            rx_points.append(point[0])\n",
      "            ry_points.append(point[1])\n",
      "    for ring in velocity:\n",
      "        for point in ring:\n",
      "            vrx.append(point[0])\n",
      "            vry.append(point[1])\n",
      "    return np.array(rx_points), np.array(ry_points), np.array(vrx), np.array(vry)  ## Returns numpy arrays of values"
     ],
     "language": "python",
     "metadata": {},
     "outputs": [],
     "prompt_number": 10
    },
    {
     "cell_type": "code",
     "collapsed": false,
     "input": [
      "def derivgalaxy(y,t,M,S):\n",
      "    G = 4.302e-3 #pc(M_solar)^-1 (km/s)^2\n",
      "    vRx = y[0]\n",
      "    vRy = y[2]\n",
      "    Rx = y[1]\n",
      "    Ry = y[3]\n",
      "    vrx = y[4]\n",
      "    vry = y[6]\n",
      "    rx = y[5]\n",
      "    ry = y[7]\n",
      "    R = sqrt(Rx**2+Ry**2)\n",
      "    delta_x = (Rx-rx)\n",
      "    delta_y = (Ry-ry)\n",
      "    \n",
      "    dvrx_dt = -G * ((M/sqrt(rx**2. + ry**2.)**3.)*rx - (S/sqrt(delta_x**2.+delta_y**2.)**3.)*delta_x \n",
      "                                                        + (S/sqrt(Rx**2.+Ry**2.)**3.)*Rx)\n",
      "    dvry_dt = -G * ((M/sqrt(rx**2. + ry**2.)**3.)*ry - (S/sqrt(delta_x**2.+delta_y**2.)**3.)*delta_y \n",
      "                                                        + (S/sqrt(Rx**2.+Ry**2.)**3.)*Ry)\n",
      "    \n",
      "    dvRx_dt = -G * ((M+S)/(sqrt(Rx**2+Ry**2))**3)*Rx\n",
      "    dvRy_dt = -G * ((M+S)/(sqrt(Rx**2+Ry**2))**3)*Ry\n",
      "    \n",
      "    if t > 0 and t < 20.:\n",
      "        plt.plot(t, np.sqrt(dvrx_dt**2 + dvry_dt**2), 'r.')\n",
      "    \n",
      "    return np.array([dvRx_dt, vRx, dvRy_dt, vRy, dvrx_dt, vrx, dvry_dt, vry])\n"
     ],
     "language": "python",
     "metadata": {},
     "outputs": [],
     "prompt_number": 11
    },
    {
     "cell_type": "code",
     "collapsed": false,
     "input": [
      "def Make_Master_Array(Rx0 = -8, Ry0 = -9,Initial_velocity_X = 0.85,Initial_velocity_Y = 0.65,t = 11., M=330., S=330., dt = 0.01):\n",
      "    G = 4.302e-3 #pc(M_solar)^-1 (km/s)^2\\\n",
      "    \n",
      "    rings,velocity = init_rings(G,M)                          ## Sets up the positions and initial velocities\n",
      "    \n",
      "    rx0,ry0,vrx_0,vry_0 = unpack_rings_vel(rings,velocity)    ## Converts values determined above to 1-D arrays\n",
      "    vRx_0 = Initial_velocity_X                                ## Initial velocity of disruptor galaxy in x\n",
      "    vRy_0 = Initial_velocity_Y                                ## Initial velocity of disruptor galaxy in y\n",
      "    \n",
      "    ts = np.arange(0.,t+0.1,0.01)\n",
      "    \n",
      "    MasterArray = []\n",
      "    \n",
      "    for n in range(len(rx0)):            ## Runs for all 120 particles in initial condition vectors.\n",
      "        \n",
      "        output = odeint(derivgalaxy, np.array([vRx_0,Rx0,vRy_0,Ry0,vrx_0[n],rx0[n],vry_0[n],ry0[n]]),\n",
      "                        ts, args=(M, S)) \n",
      "            \n",
      "        \n",
      "        rx = output[:,5]                \n",
      "        ry = output[:,7]\n",
      "        #vrx = output[:,4]\n",
      "        #vry = output[:,6]\n",
      "        \n",
      "        \n",
      "            \n",
      "        if n == 0:\n",
      "            \n",
      "            Rx = output[:,1] ## Solve the ODE for each index and output the position values\n",
      "            Ry = output[:,3]                ## Used n == 0 for both legend clarity and to minimize the x/y\n",
      "                                            ## value of the disruptor galaxy to one point.\n",
      "                \n",
      "            MasterArray.append(Rx)\n",
      "            MasterArray.append(Ry)\n",
      "            MasterArray.append(rx)\n",
      "            MasterArray.append(ry)\n",
      "            #MasterArray.append(vrx)\n",
      "            #MasterArray.append(vry)            \n",
      "            \n",
      "        else:\n",
      "            MasterArray.append(rx)\n",
      "            MasterArray.append(ry)\n",
      "            #MasterArray.append(vrx)\n",
      "            #MasterArray.append(vry)  \n",
      "            \n",
      "    return MasterArray\n",
      "            \n",
      "            "
     ],
     "language": "python",
     "metadata": {},
     "outputs": [],
     "prompt_number": 12
    },
    {
     "cell_type": "code",
     "collapsed": false,
     "input": [
      "results_D = Make_Master_Array(Rx0 = -8, Ry0 = -9, Initial_velocity_X = 0.85,Initial_velocity_Y = 0.65,t = 20, M=330., S=1320., dt = 0.01)\n",
      "#Heavy Mass Disruptor"
     ],
     "language": "python",
     "metadata": {},
     "outputs": []
    },
    {
     "cell_type": "code",
     "collapsed": false,
     "input": [],
     "language": "python",
     "metadata": {},
     "outputs": []
    }
   ],
   "metadata": {}
  }
 ]
}