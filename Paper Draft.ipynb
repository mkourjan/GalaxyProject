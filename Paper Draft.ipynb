{
 "metadata": {
  "name": "",
  "signature": "sha256:e804ff5315625e8f022bfabfd174d5be28eb3e276cb34c950abf0a6faea9f5b3"
 },
 "nbformat": 3,
 "nbformat_minor": 0,
 "worksheets": [
  {
   "cells": [
    {
     "cell_type": "code",
     "collapsed": false,
     "input": [
      "%pylab inline"
     ],
     "language": "python",
     "metadata": {},
     "outputs": [
      {
       "output_type": "stream",
       "stream": "stdout",
       "text": [
        "Populating the interactive namespace from numpy and matplotlib\n"
       ]
      }
     ],
     "prompt_number": 2
    },
    {
     "cell_type": "heading",
     "level": 1,
     "metadata": {},
     "source": [
      "Outline"
     ]
    },
    {
     "cell_type": "markdown",
     "metadata": {},
     "source": [
      "I.\tIntroduction\n",
      "* A.\tPurpose of writing this paper\n",
      "* * \tWhy is computation important today?\n",
      "* * \tHow would students benefit from learning computational techniques?\n",
      "* * \tWhat is computation?\n",
      "* * \tDon\u2019t need computation just for physics phd \u2013 talk about how computation is used in the job market today\n",
      "II.\tBackground Theory\n",
      "* A.\tScience of Galaxies\n",
      "* * \tWhat are galaxies and how are they classified?\n",
      "* * \tWhat are galaxy mergers?\n",
      "* * \tWhat gravitational interactions happen during galaxy mergers?\n",
      "* * \tWhere do the tails come from?\n",
      "* * \tHigh probability of interactions\n",
      "* * \tOur model ignores dark matter\n",
      "* * \tDiscuss distribution of dark matter and its influence on galaxy interactions (research that)\n",
      "* * \tNote: search for scientific papers of galaxy mergers and reference in paper\n",
      "* * \tReference this paper: 12 billion solar mass supermassive black hole, news articles around the 26th of February about the article published in \u2018Nature\u2019\n",
      "* * * a.\tCurrent fun reference\n",
      "* * * b.\tWe don\u2019 t know how it could have been created. But speculate that it may have been a result of galaxy mergers\n",
      "\n",
      "III.\tModel, Assumptions and Simplifications\n",
      "\n",
      "* A.\tFirst describe Newton\u2019s laws of motion and where the differential equation comes from\n",
      "* * 1.\tWhy are they complicated? And why can we not model galaxies as they are on our laptops?\n",
      "* B.\tWhat assumptions can we make and what can we simplify to still obtain reasonable results? \u2013 Why are these okay?\n",
      "* * 1.\tMass-less stars\n",
      "* * 2.\tPoint mass galaxy that disrupts\n",
      "* * 3.\tSpacing of disrupted galaxy stars\n",
      "* * 4.\tWe ignore dark matter \n",
      "* C.\tWhat cases will we look at?\n",
      "* * 1.\tWhy did we choose them?\n",
      "* * * a.\tInvestigate numerical precision limitations\n",
      "* * 8 b.\tGot cases from Toomre paper\n",
      "* * * c.\tValidating code against known cases\n",
      "* * * d.\tOnce validate, can apply it to new situations\n",
      "\n",
      "IV.\tHow did we set up our general code?\n",
      "* A.\tInclude initial star conditions \n",
      "* * 1.\tPosition and Velocity\n",
      "* B.\tDifferential Equation\n",
      "* * 1.\tWhat commands did we use to make it work?\n",
      "* * 2.\tWhat time steps did we use? What is appropriate?\n",
      "* C.\tWhat values did we use to make it work without error?\n",
      "* * 1.\tAre these values comparable to real life?\n",
      "* D.\tKeep it vague enough so readers don\u2019t copy everything, but give enough information so that they don\u2019t struggle with eaten stars\n",
      "V.\tWhat fun things can you do with the code to study galaxies?\n",
      "* A.\t\u201cMake Yellow Star\u201d\n",
      "* * 1.\tTracks one star and you can see where it ends up\n",
      "* * 2.\tWhat can we learn from this?\n",
      "* B.\tAllowing stars to orbit around both and what is the interaction and how do stars get distributed \n",
      "* C.\tDon\u2019t have any other ideas right now, but maybe we will think of something later\n",
      "* D.\tGood idea for future project: http://www.cv.nrao.edu/~jhibbard/students/CPower/dynamics/cbe/cbe.html\n",
      "\n",
      "VI.\tChallenges\n",
      "* A.\tEaten stars\n",
      "* * 1.\tHow did we fix the problem?\n",
      "* * 2.\tWhat was the problem in the first place?\n",
      "* B.\tHow did we find the correct velocity parameters? \n",
      "* * 1.\tWe solved the Kepler equations to place the stars in circular orbits around the galaxies with correct initial conditions\n",
      "\n",
      "VII.\tConclusion\n",
      "* A.\tComputation is awesome and is a very good skill to have TODAY\n",
      "VIII.\tAcknowledgments \n",
      "* A.\tCBF funding that allowed me to work over the summer\n",
      "* B.\tPHYS202 class at Cal Poly\n",
      "IX.\tReferences\n",
      "* A.\tToomre Paper\n",
      "* B.\tAnything else we find\n"
     ]
    },
    {
     "cell_type": "heading",
     "level": 1,
     "metadata": {},
     "source": [
      "Abstract"
     ]
    },
    {
     "cell_type": "markdown",
     "metadata": {},
     "source": [
      "Teaching Numerical Methods in the Context of Galaxy Mergers\n",
      "\n",
      "Methods of teaching numerical methods to solve ordinary differential equations in the context of galaxy mergers were explored.  The research published in a paper by Toomre and Toomre in 1972 describing the formation of galactic tails and bridges from close tidal interactions was adapted into a project targeting undergraduate physics students.  Typically undergraduate physics students only take one Computational Physics class in which various techniques and algorithms are taught.  Although it is important to study computational physics techniques, it is just as important to apply this knowledge to a problem that is representative of what computational physics researchers are investigating today.  The model that was developed is capable of showing general trends in galactic evolution and is a good introduction for students who hope to expand on this topic in the future.\n"
     ]
    },
    {
     "cell_type": "heading",
     "level": 1,
     "metadata": {},
     "source": [
      "Introduction"
     ]
    },
    {
     "cell_type": "markdown",
     "metadata": {},
     "source": [
      "Computational physics is based upon the idea that a computer can simulate certain physical environments to produce novel scientific conclusions.  This field allows scientists to conduct experiments on the computer that are just not realistic or possible to do in the real world because it is used to investigate topics that involve extremely large data sets and complicated physical interactions[1].  This paper investigates the components and processes of modeling galaxy mergers on an undergraduate academic level.  The project outlined in this paper is derived from a paper written by Toomre and Toomre in 1972 that described the formation of galactic tails and bridges from close tidal interactions [2]. This project could be assigned to undergraduate students in an introductory computational physics class to demonstrate the capabilities and possibilities of what the field has to offer.  \n",
      "\n",
      "The galaxy mergers project teaches students numerical methods to solve ordinary differential equations.  The galaxies modeled interact via ordinary differential equations so students are able to learn about these techniques through an applied project that is a simplified version of a cutting edge computational physics topic today[3].  A lot of the time undergraduate physics students only take one computational physics class in which they learn about various techniques and algorithms that can in theory be applied to model more complicated physical situations [4].  Although it is important to learn about the underlying theory and algorithms, it is just as important to apply this knowledge to a problem that is representative of what computational physics researchers are investigating today.  The project in this paper does in fact accomplish this goal and teaches numerical methods through application.\n",
      "Although this project uses ordinary differential equations to model galaxy mergers, currently computational physics researchers use super computers to solve partial differential equations using the Boltzmann approximation [5].  The cutting edge research today accounts for the evolution of black holes and dark matter, star formation, and the interactions between individual stars [6, 7, 8, 9].  These characteristics are important in modeling galaxy mergers, but super computer are needed to compute all of the calculations.  Our model works well enough to see general trends in galactic shapes and is a good introduction for students who want to expand on this topic in the future.\n",
      "\n",
      "Although Toomre and Toomre\u2019s paper dates back to 1972, it is still a good model to use for undergraduate students in a computational physics class.  Their research provided good and accurate results despite the assumptions and simplifications that they made.  Researchers today can produce more precise results and investigate a larger range of topics than in 1972, but the foundation for producing these results is still the same.  This project is an excellent introduction to the capabilities of computational physic s and is a great learning opportunity for undergraduate physics students.  \n",
      "\n",
      "References:\n",
      "* [1] http://www.cec.uchile.cl/cinetica/pcordero/MC_libros/Hjorth-Jensen2008.pdf\n",
      "* [2] http://articles.adsabs.harvard.edu/cgi-bin/nph-iarticle_query?1972ApJ...178..623T&data_type=PDF_HIGH&whole_paper=YES&type=PRINTER&filetype=.pdf\n",
      "* [3] http://www.aanda.org/articles/aa/pdf/2010/10/aa12938-09.pdf\n",
      "* [4] http://arxiv.org/pdf/1303.4355.pdf\n",
      "* [5] http://www.mpa-garching.mpg.de/gadget/gadget2-paper.pdf\t Note: This paper was a bit tricky for me to understand, but I think it applies (with the Boltzmann Approximation method) but I just wanted to double check with you!\n",
      "* [6] http://adsabs.harvard.edu/abs/2013ApJ...778..129H\n",
      "* [7] http://pasj.oxfordjournals.org/content/61/3/481.short\n",
      "* [8] http://ned.ipac.caltech.edu/level5/Barnes2/paper.pdf\n",
      "* [9] http://www.aanda.org/articles/aa/pdf/2005/25/aa2036-04.pdf\n"
     ]
    },
    {
     "cell_type": "heading",
     "level": 1,
     "metadata": {},
     "source": [
      "Background Theory"
     ]
    },
    {
     "cell_type": "markdown",
     "metadata": {},
     "source": [
      "Galaxies are a collection of stars that are orbiting around a common center which sometimes happens to be a black hole.  Galaxies come in various shapes and sizes, but the scientist Edwin Hubble designed a classification system for galaxies that is still used today.  He grouped galaxies into four categories including elliptical, spiral, disk, and irregular.  Today we have expanded upon these four groups, but only to add subcategories.  Today elliptical galaxies can be classified according to the ratio between their minor axis and major axis dimensions to differentiate between more circular as opposed to more elongated shapes.  Spiral galaxies are now classified with how tight or loose the spiral arms are, and whether or not there are a cluster of stars in a bar shape in the center of the galaxy.  Disk galaxies are considered to be a transition point between elliptical and spiral galaxies, and were added to the classification system by Hubble approximately 10 years after he created the original one.   Although there are galaxy classification systems in place, a galaxy does not necessarily maintain its shape throughout its life time.\n",
      "\n",
      "Galaxies can change shape due to galactic mergers and interactions.  When one galaxy approaches or collides with another, the gravitational force between the two can be so strong that the general shapes of the galaxies can forever be changed.  For instance gravitational interactions with other galaxies have been known to morph the arms of spiral galaxies, change or add the bar structure in spiral galaxies, add features such as tidal tails, and sometimes completely merge the two galaxies together [1].  This paper examines how the positions of individual stars in one galaxy can change with an interaction of another galaxy.  This is important in the grand scheme of things, because this project allows students to predict how a galaxy\u2019s shape can morph over time in various situations.  Trends in galactic morphology are easily visible in this project despite the simplifications that were made.\n",
      "\n",
      "Our modern understanding of cosmology indicates that a large fraction of the total matter in the universe is in fact dark matter.  Dark matter does not omit or absorb light and is therefore virtually invisible.  Dark matter is able to interact gravitationally with other matter, so it can be detected by observing trajectories of visible matter.  Some trajectories appear to defy the existing laws of Physics; these trajectories can be explained by the presence of this invisible matter [2].  Dark matter is distributed non-uniformly throughout the universe. When modeling galaxy mergers and interactions, advanced computer models take dark matter into account by using mean field approximation.  This is a procedure that takes a significant amount of computing power and is therefore omitted from our model.\n",
      "\n",
      "Black holes are not unusual to occur in the centers of galaxies.  They are very dense and create a large amount of gravity with respect to their size which makes them optimal to orbit around.  Recently a black hole was discovered in the center of a quasar that was 12 billion times the mass of our sun [3].  It is hypothesized that super massive black holes are actually formed through galaxy mergers.  Since the universe is expanding exponentially, the early universe was a lot more compact and more galactic interactions were able to occur.  It would be interesting to apply this project to the study of galactic mergers and the interactions of black holes in the early universe.   \n",
      "\n",
      "References:\n",
      "* [1]\thttp://www.astro.caltech.edu/~george/ay21/eaa/eaa-classif.pdf  \tNote: This reference was used for the entire first part of the section.  Pretty much up until I wrote the [1].\n",
      "* [2]\thttp://www.astro.caltech.edu/~george/ay20/eaa-darkmatter-obs.pdf\n",
      "* [3]\thttp://www.nature.com/articles/nature14241.epdf?referrer_access_token=wRAyMuQ5QpfbI1-zdPBPS9RgN0jAjWel9jnR3ZoTv0MjEI3u_E4Cj7TG8d28cyICbmstZoEuvRUi0RT2y6tI1nPKHJFUqjtTe_yaAi5XScBq1qcm8z1HzS09NmrghA48VGtG32krnlKjglIloWY_BEK_N32gjgQVd1ndHnHBX83m1tTKl2N5kh2gSYGTK9EGYF9DlGAswqdxaUyOHun5WCISfc_7Mf6k4OOl_U41dcenkoJD6huC57VP4yrPRqj3ugcANLYmmf9Wwn3ptM1ztg%3D%3D&tracking_referrer=www.npr.org\n",
      "\n"
     ]
    },
    {
     "cell_type": "heading",
     "level": 1,
     "metadata": {},
     "source": [
      "Model, Assumptions, and Simplifications"
     ]
    },
    {
     "cell_type": "markdown",
     "metadata": {},
     "source": [
      "Galaxies are very complicated entities and there are a lot of factors that can contribute to the positions and velocities of stars.  First of all, galaxies contain an uneven distribution of matter which is very difficult to model.  Second of all, the stars themselves interact gravitationally with each other despite ultimately orbiting around the galactic center.  These factors involve advanced computational techniques and equipment that is more serious than an average computer that an undergraduate student may own.  Due to these complicated factors, the stars in this project are considered mass-less, and all of the galactic mass occurs as a point mass in the center of the galaxy.  The mass-less stars were oriented in rings around the galactic.  Additionally it was stated that any galaxy that acts as a disruptor will simply be a point mass and not have any stars around it.  These simplifications make it possible to conduct the computations at each time step using differential equations that describe motion.\n",
      "\n",
      "<img src = \"GalaxyProjectImage.png\" width = 600>\n",
      "\n",
      "This project consisted of two galaxies.  One galaxy contained stars and remained at the origin of our reference frame, whereas the other galaxy had a perfectly parabolic trajectory (in relation to the origin) and was simply a point mass with no stars.  This configuration allows one to clearly observe the evolution of star positions in a galaxy merger.  Additionally the only cases that were examined in this project were direct passage, retrograde passage, light mass disruptor and heavy mass disruptor cases which will soon be explained. \n",
      "\n",
      "After R_min was set, it was possible to calculate the initial velocity paramters of the disrupting galaxy.  The disrupting galaxy was set to follow a perfect parabolic trajectory, so the initial velocity conditions were extremely important. These conditions pave the trajectory that the galaxy will follow.  First, the Vis-Viva equation was used to determine the minimum velocity of the disrupting galaxy that occured at R_min.  The Vis Viva equation is described by [1] where v is the relative speed between two bodies, r is the separation between two bodies, M is the mass of the central body, G is the gravitational constant, and a is the semi major axis.\n",
      "\n",
      "\n",
      "\\begin{equation}\n",
      "\\hspace{10cm}v^2 = GM(\\frac{2}{r} - \\frac{1}{a}) \\hspace{10cm}[1]\n",
      "\\end{equation}\n",
      "\n",
      "\n",
      "\n",
      "With parabolas the semi-major axis approaches infinity,so the Vis-Viva equation can be reduced to [2].\n",
      "\n",
      "\n",
      "$$\n",
      "\\hspace{10cm}v_(min)= \\sqrt{\\frac{2GM}{R_(min)^2}} \\hspace{9cm}[2]\n",
      "$$\n",
      "\n",
      "Using vmin, the angular momentum can be calculated from [3] which is beneficial since the value is a constant for the entire trajectory of the disrupting galaxy.\n",
      "\n",
      "\\begin{equation}\n",
      "\\hspace{8cm}l = l_(min) = r_(min)*v_(min)\\sin(90) = constant \\hspace{6cm} [3]\n",
      "\\end{equation}\n",
      "\n",
      "This angular momentum value can be used to determine the c factor in the general equation of a parabola described by [4].\n",
      "\n",
      "\\begin{equation}\n",
      "\\hspace{11cm}y^2 = c^2 - 2cx\\hspace{10cm} [4]\n",
      "\\end{equation}\n",
      "\n",
      "The c factor is described by [5] and [6].\n",
      "\n",
      "\\begin{equation}\n",
      "\\hspace{10cm}c = \\frac{l^2}{Gm_1m_2\\mu}\\hspace{11cm} [5]\n",
      "\\end{equation}\n",
      "\n",
      "\\begin{equation}\n",
      "\\hspace{10cm}\\mu = \\frac{M_1M_2}{M_1 + M_2} \\hspace{11cm}[6]\n",
      "\\end{equation}\n",
      "\n",
      "A starting value for the initial y position was set, and the general equation of the parabola was used to determine the cooresponding x value.  These coordinates were ultimately used to determine the initial separation value between the two galaxies (R0) which can be calculated  from [7].\n",
      "\n",
      "$$\n",
      "\\hspace{10cm}R_0 = \\sqrt{(x_0^2) + (y_0^2)} \\hspace{10cm}[7]\n",
      "$$\n",
      "\n",
      "From R0, the initial velocity can be determined from a simplified version of the Vis-Viva equation described by [8].\n",
      "\n",
      "$$\n",
      "\\hspace{10cm}v_0= \\sqrt{\\frac{2GM}{R_0^2}}\\hspace{11cm}[8]\n",
      "$$\n",
      "\n",
      "Once v0 was determined, the tangent vector was calculated to obtain values for the initial x and y velocity values of the parabolic orbit.\n",
      "\n",
      "Now that the initial conditions for the disrupting galaxy are set, it is possible to further examine the initial conditions of the galaxy at the origin.  The initial positions of the stars were given previously, but now the initial velocities must be set.  The process is very similar to determining the velocity of the disrupting galaxy.  The modified Vis-Viva equation for the parabolic case must be applied using equation [9].\n",
      "\n",
      "$$\n",
      "\\hspace{10cm}v_0= \\sqrt{\\frac{2GM}{R_0^2}}\\hspace{11cm} [9]\n",
      "$$\n",
      "\n",
      "The initial conditions for the project are finally set, so now it is possible to discuss calculating the subsequent positions and velocities for each time step.  The positions of the stars are described by the differential equation [10].\n",
      "\n",
      "$$\n",
      "\\hspace{10cm}\\ddot{\\mathbf{r}} = -\\gamma \\left\\{ \\frac{M}{r^3}\\mathbf{r} -\\frac{S}{\\rho^3}\\boldsymbol{\\rho} + \\frac{S}{R^3}\\boldsymbol\\Re \\right\\}\\hspace{8cm}[10]\n",
      "$$\n",
      "\n",
      "The disrupting galaxy is described by the differential equation [11].\n",
      "\n",
      "$$\n",
      "\\hspace{10cm}\\ddot{\\boldsymbol\\Re} = -\\gamma \\frac{M+S}{R^3}\\boldsymbol\\Re\\hspace{11cm} [11]\n",
      "$$\n",
      "\n",
      "In equations [10] and [11], the variables and constants are defined as follows:\n",
      "\n",
      "* $\\gamma$ is the Gravitational constant.\n",
      "* M is the central mass of the main galaxy and S is the central mass of the disrupting galaxy\n",
      "* $\\mathbf{r}$ is the radius vector from mass M to massless point particle m, representing a single (massless) star in the outer disk of the main galaxy.\n",
      "* $\\boldsymbol\\Re$ is the radius vector from M to S.\n",
      "* $\\boldsymbol{\\rho} = \\boldsymbol{\\Re} - \\boldsymbol{r}$\n",
      "\n",
      "These differential equations were solved to determine the position and velocity information for each galaxy at every time step.\n",
      "\n",
      "Although many situations could be modeled using this particular model, this project focused on just four cases that could be confirmed against existing research.  The four cases were direct passage, retrograde passage, light mass disruptor and heavy mass disruptor.  Direct passage occurs when the stationary galaxy and disrupting galaxy have equal mass, and the disrupting galaxy approaches the stationary one along a parabola with the same direction that the stars are orbiting.   Retrograde passage is very similar except the disrupting galaxy approaches in the opposite direction that the stars are orbiting.  A way to visual these concepts is that the stars are orbiting counter clockwise and in a direct passage the galaxy approaches counter clockwise as well whereas the retrograde passage follows a clockwise trajectory.  A light mass disruptor was also modeled where the disrupting galaxy approaches along a direct approach, but had only a quarter of the mass of the stationary galaxy.  The heavy mass disruptor on the other hand was also a direct approach, but the disruptor had four times the galactic mass of the stationary galaxy.  These four cases were taken from the Toomre and Toomre paper (reference in other paragraph), and the results were indeed confirmed against their conclusions.   It was important to validate these cases against existing cases so that it could be confirmed that this model was a good one.  Once that was determined, it is now evident that this model can be confidently applied to other situations and cases where the outcome is unknown and one can be confident that the results are realistic."
     ]
    },
    {
     "cell_type": "heading",
     "level": 1,
     "metadata": {},
     "source": [
      "How do we set up general code?"
     ]
    },
    {
     "cell_type": "markdown",
     "metadata": {},
     "source": [
      "Let us begin by examining the stationary galaxy containing stars which is set at the origin.  This galaxy has a point mass, which means that all of its mass occurs at a point in its center.  The galaxy contains 120 mass-less stars which are initially distributed throughout 5 discrete, concentric rings around the galaxy.  Each ring contains 12, 18, 24, 30, and 36 stars respectively (the inner most ring contains 12 stars).  For the direct passage, retrograde passage, and light mass disruptor cases; the concentric rings are placed at exactly 20, 30, 40, 50, and 60 percent of the minimum distance between the two galaxies (R_min).  \n",
      "\n",
      "<img src = \"DirectPassageImage.png\" width = 300>\n",
      "\n",
      "On the other hand, in the heavy mass disruptor case the rings are placed at 12, 18, 24, 30, and 36 percent of R_min. \n",
      "\n",
      "\n",
      "<img src = \"HeavyPassageImage.png\" width = 300>\n",
      "\n",
      "In all cases this minimum distance (Rmin) is set at 25 kpc.  The initial time was set to t = 0 and the time step was set to exactly 10^8 years.  In all of the featured cases, the heavier mass was set to 10^11 solar masses.  Various functions inside the iPython notebook were used in the project including NumPy, Matplotlib, SciPy, odeint, and the iPython interact. These functions made it possible to conduct all of the necessary computations in this project.\n",
      "\n",
      "Set_Init_R_Cond(Ry0, M, S):\n",
      "\n",
      "The first step is to set the initial conditions of the disturbing galaxy.  A function was written that depended on the initial \u201cy\u201d condition of the disturbing galaxy (Ry0), the mass of the stationary galaxy (M), and the mass of the disturbing galaxy (S).  The minimum separation distance between the two galaxies was called Rmin, which was set at 25 kpc.  The minimum velocity at Rmin was set as well following equation [8] with variable values of galactic masses.  The angular momentum was determined using these values which allow for the c factor to be computed according to equations [5] and [6].  The c factor was used to compute the corresponding initial \u201cX\u201d position of the disturbing galaxy (Rx0) which in turn could be used to compute the distance of the disturbing galaxy from the origin (R0) according to [7].  The unit tangent vectors were then determined for the parabola trajectory which were used to set the initial \u201cX\u201d and \u201cY\u201d velocities of the disturbing galaxy.  The function returns initial \u201cX\u201d and \u201cY\u201d positions and velocities of the disturbing galaxy.\n",
      "\n",
      "Ring(particles, percent, G, M):\n",
      "\n",
      "A function was set up where formulas and empty lists were set up to produce initial conditions of the stars around the stationary galaxy.  This function took in arguments called particles, percent, G, and M.  Particles described the number of stars that were desired in one ring around the center of the stationary galaxy.  Percent described at what percentage of Rmin the distance between each star and the origin of the stationary galaxy should be. Lastly, G described a gravitational constant and M was the mass of the stationary galaxy. First the radius of each star was defined as a percent of the Rmin value set in the previous function.  The stars can be plotted along a circular trajectory around the origin of the stationary galaxy.  The arc length of each trajectory is divided among each ring of stars so that the stars are spaced equally apart.  This is accomplished by creating a while loop that produces a star location with each turn of the loop.  The loop runs as many times as there are stars to be created.   Although the stars are initially in polar coordinates, their positions are converted to Cartesian coordinates and appended to an empty list.  The initial velocity conditions are also created using equation [8].  These velocities are tangent to the circle that the stars are plotted along.  This function returns an array of star positions and an array of star velocities. \n",
      "\n",
      "Init_rings (G,M):\n",
      "\n",
      "A function was set up where the gravitational constant (G) and the stationary galactic mass (M) were the inputs.  The previous \u201cring\u201d functions set up all of the formulas using variables to set the initial positions and velocities of the stars.  This function upon the \u201cring\u201d function so that the actual values of the number of stars desired and the percentage of Rmin are computed to create an array of real numbers that represent the positions and velocities of the stars.  There are two \u2018init-ring\u2019 functions because different star numbers and percentages are used for different cases.  Specifically, each ring in every case contains 12, 18, 24, 30, and 36 stars respectively (the inner most ring contains 12 stars).  For the direct passage, retrograde passage, and light mass disruptor cases; the concentric rings are placed at exactly 20, 30, 40, 50, and 60 percent of the minimum distance between the two galaxies (R_min).  On the other hand, in the heavy mass disruptor case the rings are placed at 12, 18, 24, 30, and 36 percent of R_min.  This function returns an array of position values and an array of velocity values.\n",
      "\n",
      "Unpack_rings_vel(rings, velocity):\n",
      "\n",
      "This function takes in the arguments \u2018rings\u2019 and \u2018velocity\u2019 which were the outputs from the previous function.  The purpose of this function is to organize the information in the rings and velocity arrays into separate lists of x positions of stars, y positions of stars, x velocities of stars, and y velocities of stars.  This can be accomplished by writing a for loop that loops through the rings and velocity arrays and selects the desired information using indexing techniques and appending the proper information to an initially empty list.  This function returns four separate arrays that describe the x and y positions and velocities of the stars.\n",
      "\n",
      "Derivgalaxy(y, t, M, S):\n",
      "\n",
      "This function inputted an array containing all of the position and velocity information of the disturbing and stationary galaxies, the period of time to be examined, and the stationary and disrupting galactic masses.  Additionally all of the arrays of information were inputted into equations [10] and [11] that describe the position of each star and disrupting galaxy over time.  This function outputs an array of the x and y velocity and acceleration values of each star and disrupting galaxy.\n",
      "\n",
      "Make-Master_Array(Case = 1, Rx0 = -39, Ry0 = -80, M = 1.0e11, S = 1.0e11);\n",
      "\n",
      "This function inputted the case which will be examined.  Each of the four cases was set arbitrarily to numbers to make them simpler to call.  The function also inputted the initial x and y position of the disrupting galaxy, and the galactic masses of the disrupting and stationary galaxies.  This function runs the previous functions according the case number that is to be examined.  This could be achieved by using if and elif statements to run certain functions if a certain case is called.  The output of the derivgalaxy is solved by using an odeint function which is an ordinary differential equation solver.  This function loops over each time step and appends all of the information of the positions and velocities of the stars and disrupting galaxy at each time step to a master array.  The purpose of this is to run the calculation one time in its entirety and to store the results in an array for simple referencing.  This function output a complete master array containing all of the information of the stars and disrupting galaxy at each time step.\n",
      "\n",
      "Make_Plot_stars(results, M, S, t, dt):\n",
      "\n",
      "This function input the results of the make_master_array function, the masses of the disrupting and stationary galaxies, the total time the user would like to examine, and the time steps which were integrated over.  This function sets the stationary galaxy location at the origin despite the fact that it does technically move.  Additionally, this function ensures that all of the stars will orbit and move in reference to the set origin at the stationary galactic center.  The information from the make_master_array function is plotted using an iPython interact widget tool that allows the user to slide through all of the calculated time steps and observe the evolution of the galaxies in a movie like layout. \n",
      "\n",
      "Make_Plots_Yellow_Star(results, M, S, t, dt, Yellowstar):\n",
      "\n",
      "This function is almost identical to the previous Make_Plot_Stars function, except it contains an extra argument called yellowstar that allows the user to index a certain star in the master array to be a yellow star where all of the other stars are red.  Essentially a for loop is written that plots and colors all of the stars red.  Next, another for loop is written that only loops over a desired star and plots a yellow star on top of the existing red one.  Although two stars are plotted in one location, the user only sees the yellow star that is covering the red one. \n"
     ]
    },
    {
     "cell_type": "heading",
     "level": 1,
     "metadata": {},
     "source": [
      "Challenges"
     ]
    },
    {
     "cell_type": "markdown",
     "metadata": {},
     "source": [
      "In order to have \n",
      "\n",
      "When developing this project, the biggest challenge that we encountered was that all of the parameters and initial conditions had to be scientifically accurate in order to produce realistic results.  We began by setting arbitrary initial velocity conditions for our galaxy and stars.  After we did this, we noticed that the parabolic trajectory was significantly tilted and that the disrupted stars did not form galactic tails and bridges as Toomre and Toomre predicted.  In order to solve this problem, we used the velocity equations described previously to set our conditions.  \n",
      "\n",
      "Another important aspect to be aware of is that it is extremely important to set a good time step.  We initially started the project with a timestep that was too large (0.01x10^8 years) and we noticed that our stars would disappear with time.  This problem was especially prominent with the heavy mass disruptor case where every single star would disappear by the time 20x10^8 years went by in our program.  We eventually discovered that our time step was too large and that our stars would jump to the origin when their positions were not calculated frequently enough with the close proximity of the disrupting galaxy.  Essentially the stars did not quite make it around on their orbits and they would jump to the origin and layer themselves on top of one another creating the illusion that they disappeared.  A recommended timestep to use to avoid this problem is 0.007x10^8 years.\n",
      "\n",
      "A time step that is too large such as ... results in stars disappearing.  By reducint the time steps to a maximum of 0.007 we were able to correct.  Numerical precision problem that resulted in the magnification of our error. WE can be more quantitative about it and I should test at which time step specifically stars get eaten.\n"
     ]
    },
    {
     "cell_type": "markdown",
     "metadata": {},
     "source": [
      "When creating the galaxy mergers model, one must be aware of some challenges that can impede one's progress.  First of all, it is important to set initial position and velocity conditions according to the equations listed above in the \"Model, Assumptions, and Simplifications\" paragraph.  If arbitrary values are set instead, the disrupting galaxy will not follow a perfect parabolic approach and the stars will not move along realistic trajectories.\n",
      "\n",
      "Another challenge to be aware of is setting a proper time step.  If one sets a time step that is too large, the positions of the stars are not calculated frequently enough and they may jump to the origin when the disrupting galaxy is close.  This problem occurs because it was a numerical precision problem that resulted in the magnification of error.  The time step used in this project is 0.007 and is the recommended time step to use."
     ]
    },
    {
     "cell_type": "heading",
     "level": 1,
     "metadata": {},
     "source": [
      "Applications and Future Extensions"
     ]
    },
    {
     "cell_type": "markdown",
     "metadata": {},
     "source": [
      "After a student gets this project working, they may build upon the existing program with the following suggestions.  First, it may be interesting to examine the trajectory of a single star and follow its path.  One way to do this is to color a particular star in a different color to make it stand out amongst the other stars.  The method to accomplish this is described in the previous section called \"How to set up General Code\" under the \"Make_yellow_star\" description. This modification allows students to see which stars are transferred to the disturbing galaxy and which stars stay with their own galaxy.  \n",
      "\n",
      "Another modification may be to add stars to the disturbing galaxy following similar rules as modeling stars around the stationary galaxy.  It would be interesting for a student to examine how the different stars mix together over time by color coding the stars based on which galaxy they came from.  \n",
      "\n",
      "Finally it would be interesting to add mass to the stars, and to create the same model but with only a few stars that interact graviationally with one another.  This suggestion would take the most computing power and therefore it is reccommended for a student to start with only three stars.  Once a student acccomplishes this extension with three stars, they may add more as long as their computer can process the information. \n",
      "\n",
      "Add mass to stars. we use fixed timesteps, but in complicated research on supercomputers they have to adjust timestep value  based ont he strength of the interaction."
     ]
    },
    {
     "cell_type": "heading",
     "level": 1,
     "metadata": {},
     "source": [
      "Conclusion"
     ]
    },
    {
     "cell_type": "markdown",
     "metadata": {},
     "source": [
      "Computational Physics is a very broad field that covers many interesting topics.  This project focuses on modeling Galaxies which is a sub-category of computational physics.  Galaxies have many complicated factors such as dark matter, black holes, and star-star interactions that computational physicists must model on super computers. Super computers are not commonly available to undergraduate physics students, therefore this project was created that allows students to model galaxies using the iPython notebook on their laptops.  The project was modeled after the 1972 Toomre and Toomre paper that described the formation of galactic tails and bridges.  Toomre and Toomre imposed certain simplifications on their model including mass-less stars, no dark matter or black holes, and the use of 120 stars.  These assumptions were then adopted into this project.  Although the model is not as precise as some of the cutting-edge research that is currently being conducted, the model is definitely good enough to see galactic trends and is therefore interesting to study.   "
     ]
    },
    {
     "cell_type": "code",
     "collapsed": false,
     "input": [],
     "language": "python",
     "metadata": {},
     "outputs": []
    }
   ],
   "metadata": {}
  }
 ]
}