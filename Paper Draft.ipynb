{
 "metadata": {
  "name": "",
  "signature": "sha256:fc15eea42ac9fa72b1456f481905128fbc48eec60408d1e13b9336c6af5ceed6"
 },
 "nbformat": 3,
 "nbformat_minor": 0,
 "worksheets": [
  {
   "cells": [
    {
     "cell_type": "heading",
     "level": 1,
     "metadata": {},
     "source": [
      "Outline"
     ]
    },
    {
     "cell_type": "markdown",
     "metadata": {},
     "source": [
      "I.\tIntroduction\n",
      "* A.\tPurpose of writing this paper\n",
      "* * \tWhy is computation important today?\n",
      "* * \tHow would students benefit from learning computational techniques?\n",
      "* * \tWhat is computation?\n",
      "* * \tDon\u2019t need computation just for physics phd \u2013 talk about how computation is used in the job market today\n",
      "II.\tBackground Theory\n",
      "* A.\tScience of Galaxies\n",
      "* * \tWhat are galaxies and how are they classified?\n",
      "* * \tWhat are galaxy mergers?\n",
      "* * \tWhat gravitational interactions happen during galaxy mergers?\n",
      "* * \tWhere do the tails come from?\n",
      "* * \tHigh probability of interactions\n",
      "* * \tOur model ignores dark matter\n",
      "* * \tDiscuss distribution of dark matter and its influence on galaxy interactions (research that)\n",
      "* * \tNote: search for scientific papers of galaxy mergers and reference in paper\n",
      "* * \tReference this paper: 12 billion solar mass supermassive black hole, news articles around the 26th of February about the article published in \u2018Nature\u2019\n",
      "* * * a.\tCurrent fun reference\n",
      "* * * b.\tWe don\u2019 t know how it could have been created. But speculate that it may have been a result of galaxy mergers\n",
      "\n",
      "III.\tModel, Assumptions and Simplifications\n",
      "\n",
      "* A.\tFirst describe Newton\u2019s laws of motion and where the differential equation comes from\n",
      "* * 1.\tWhy are they complicated? And why can we not model galaxies as they are on our laptops?\n",
      "* B.\tWhat assumptions can we make and what can we simplify to still obtain reasonable results? \u2013 Why are these okay?\n",
      "* * 1.\tMass-less stars\n",
      "* * 2.\tPoint mass galaxy that disrupts\n",
      "* * 3.\tSpacing of disrupted galaxy stars\n",
      "* * 4.\tWe ignore dark matter \n",
      "* C.\tWhat cases will we look at?\n",
      "* * 1.\tWhy did we choose them?\n",
      "* * * a.\tInvestigate numerical precision limitations\n",
      "* * 8 b.\tGot cases from Toomre paper\n",
      "* * * c.\tValidating code against known cases\n",
      "* * * d.\tOnce validate, can apply it to new situations\n",
      "\n",
      "IV.\tHow did we set up our general code?\n",
      "* A.\tInclude initial star conditions \n",
      "* * 1.\tPosition and Velocity\n",
      "* B.\tDifferential Equation\n",
      "* * 1.\tWhat commands did we use to make it work?\n",
      "* * 2.\tWhat time steps did we use? What is appropriate?\n",
      "* C.\tWhat values did we use to make it work without error?\n",
      "* * 1.\tAre these values comparable to real life?\n",
      "* D.\tKeep it vague enough so readers don\u2019t copy everything, but give enough information so that they don\u2019t struggle with eaten stars\n",
      "V.\tWhat fun things can you do with the code to study galaxies?\n",
      "* A.\t\u201cMake Yellow Star\u201d\n",
      "* * 1.\tTracks one star and you can see where it ends up\n",
      "* * 2.\tWhat can we learn from this?\n",
      "* B.\tAllowing stars to orbit around both and what is the interaction and how do stars get distributed \n",
      "* C.\tDon\u2019t have any other ideas right now, but maybe we will think of something later\n",
      "* D.\tGood idea for future project: http://www.cv.nrao.edu/~jhibbard/students/CPower/dynamics/cbe/cbe.html\n",
      "\n",
      "VI.\tChallenges\n",
      "* A.\tEaten stars\n",
      "* * 1.\tHow did we fix the problem?\n",
      "* * 2.\tWhat was the problem in the first place?\n",
      "* B.\tHow did we find the correct velocity parameters? \n",
      "* * 1.\tWe solved the Kepler equations to place the stars in circular orbits around the galaxies with correct initial conditions\n",
      "\n",
      "VII.\tConclusion\n",
      "* A.\tComputation is awesome and is a very good skill to have TODAY\n",
      "VIII.\tAcknowledgments \n",
      "* A.\tCBF funding that allowed me to work over the summer\n",
      "* B.\tPHYS202 class at Cal Poly\n",
      "IX.\tReferences\n",
      "* A.\tToomre Paper\n",
      "* B.\tAnything else we find\n"
     ]
    },
    {
     "cell_type": "heading",
     "level": 1,
     "metadata": {},
     "source": [
      "Introduction"
     ]
    },
    {
     "cell_type": "markdown",
     "metadata": {},
     "source": [
      "Computational physics is based upon the idea that a computer can simulate certain physical environments to produce novel scientific conclusions.  This field allows scientists to conduct experiments on the computer that are just not realistic or possible to do in the real world because it is used to investigate topics that involve extremely large data sets and complicated physical interactions[1].  This paper investigates the components and processes of modeling galaxy mergers on an undergraduate academic level.  The project outlined in this paper is derived from a paper written by Toomre and Toomre in 1972 that described the formation of galactic tails and bridges from close tidal interactions [2]. This project could be assigned to undergraduate students in an introductory computational physics class to demonstrate the capabilities and possibilities of what the field has to offer.  \n",
      "\n",
      "The galaxy mergers project teaches students numerical methods to solve ordinary differential equations.  The galaxies modeled interact via ordinary differential equations so students are able to learn about these techniques through an applied project that is a simplified version of a cutting edge computational physics topic today[3].  A lot of the time undergraduate physics students only take one computational physics class in which they learn about various techniques and algorithms that can in theory be applied to model more complicated physical situations [4].  Although it is important to learn about the underlying theory and algorithms, it is just as important to apply this knowledge to a problem that is representative of what computational physics researchers are investigating today.  The project in this paper does in fact accomplish this goal and teaches numerical methods through application.\n",
      "Although this project uses ordinary differential equations to model galaxy mergers, currently computational physics researchers use super computers to solve partial differential equations using the Boltzmann approximation [5].  The cutting edge research today accounts for the evolution of black holes and dark matter, star formation, and the interactions between individual stars [6, 7, 8, 9].  These characteristics are important in modeling galaxy mergers, but super computer are needed to compute all of the calculations.  Our model works well enough to see general trends in galactic shapes and is a good introduction for students who want to expand on this topic in the future.\n",
      "\n",
      "Although Toomre and Toomre\u2019s paper dates back to 1972, it is still a good model to use for undergraduate students in a computational physics class.  Their research provided good and accurate results despite the assumptions and simplifications that they made.  Researchers today can produce more precise results and investigate a larger range of topics than in 1972, but the foundation for producing these results is still the same.  This project is an excellent introduction to the capabilities of computational physic s and is a great learning opportunity for undergraduate physics students.  \n",
      "\n",
      "References:\n",
      "* [1] http://www.cec.uchile.cl/cinetica/pcordero/MC_libros/Hjorth-Jensen2008.pdf\n",
      "* [2] http://articles.adsabs.harvard.edu/cgi-bin/nph-iarticle_query?1972ApJ...178..623T&data_type=PDF_HIGH&whole_paper=YES&type=PRINTER&filetype=.pdf\n",
      "* [3] http://www.aanda.org/articles/aa/pdf/2010/10/aa12938-09.pdf\n",
      "* [4] http://arxiv.org/pdf/1303.4355.pdf\n",
      "* [5] http://www.mpa-garching.mpg.de/gadget/gadget2-paper.pdf\t Note: This paper was a bit tricky for me to understand, but I think it applies (with the Boltzmann Approximation method) but I just wanted to double check with you!\n",
      "* [6] http://adsabs.harvard.edu/abs/2013ApJ...778..129H\n",
      "* [7] http://pasj.oxfordjournals.org/content/61/3/481.short\n",
      "* [8] http://ned.ipac.caltech.edu/level5/Barnes2/paper.pdf\n",
      "* [9] http://www.aanda.org/articles/aa/pdf/2005/25/aa2036-04.pdf\n"
     ]
    },
    {
     "cell_type": "heading",
     "level": 1,
     "metadata": {},
     "source": [
      "Background Theory"
     ]
    },
    {
     "cell_type": "markdown",
     "metadata": {},
     "source": [
      "Galaxies are a collection of stars that are orbiting around a common center which sometimes happens to be a black hole.  Galaxies come in various shapes and sizes, but the scientist Edwin Hubble designed a classification system for galaxies that is still used today.  He grouped galaxies into four categories including elliptical, spiral, disk, and irregular.  Today we have expanded upon these four groups, but only to add subcategories.  Today elliptical galaxies can be classified according to the ratio between their minor axis and major axis dimensions to differentiate between more circular as opposed to more elongated shapes.  Spiral galaxies are now classified with how tight or loose the spiral arms are, and whether or not there are a cluster of stars in a bar shape in the center of the galaxy.  Disk galaxies are considered to be a transition point between elliptical and spiral galaxies, and were added to the classification system by Hubble approximately 10 years after he created the original one.   Although there are galaxy classification systems in place, a galaxy does not necessarily maintain its shape throughout its life time.\n",
      "\n",
      "Galaxies can change shape due to galactic mergers and interactions.  When one galaxy approaches or collides with another, the gravitational force between the two can be so strong that the general shapes of the galaxies can forever be changed.  For instance gravitational interactions with other galaxies have been known to morph the arms of spiral galaxies, change or add the bar structure in spiral galaxies, add features such as tidal tails, and sometimes completely merge the two galaxies together [1].  This paper examines how the positions of individual stars in one galaxy can change with an interaction of another galaxy.  This is important in the grand scheme of things, because this project allows students to predict how a galaxy\u2019s shape can morph over time in various situations.  Trends in galactic morphology are easily visible in this project despite the simplifications that were made.\n",
      "\n",
      "Our modern understanding of cosmology indicates that a large fraction of the total matter in the universe is in fact dark matter.  Dark matter does not omit or absorb light and is therefore virtually invisible.  Dark matter is able to interact gravitationally with other matter, so it can be detected by observing trajectories of visible matter.  Some trajectories appear to defy the existing laws of Physics; these trajectories can be explained by the presence of this invisible matter [2].  Dark matter is distributed non-uniformly throughout the universe. When modeling galaxy mergers and interactions, advanced computer models take dark matter into account by using mean field approximation.  This is a procedure that takes a significant amount of computing power and is therefore omitted from our model.\n",
      "\n",
      "Black holes are not unusual to occur in the centers of galaxies.  They are very dense and create a large amount of gravity with respect to their size which makes them optimal to orbit around.  Recently a black hole was discovered in the center of a quasar that was 12 billion times the mass of our sun [3].  It is hypothesized that super massive black holes are actually formed through galaxy mergers.  Since the universe is expanding exponentially, the early universe was a lot more compact and more galactic interactions were able to occur.  It would be interesting to apply this project to the study of galactic mergers and the interactions of black holes in the early universe.   \n",
      "\n",
      "References:\n",
      "* [1]\thttp://www.astro.caltech.edu/~george/ay21/eaa/eaa-classif.pdf  \tNote: This reference was used for the entire first part of the section.  Pretty much up until I wrote the [1].\n",
      "* [2]\thttp://www.astro.caltech.edu/~george/ay20/eaa-darkmatter-obs.pdf\n",
      "* [3]\thttp://www.nature.com/articles/nature14241.epdf?referrer_access_token=wRAyMuQ5QpfbI1-zdPBPS9RgN0jAjWel9jnR3ZoTv0MjEI3u_E4Cj7TG8d28cyICbmstZoEuvRUi0RT2y6tI1nPKHJFUqjtTe_yaAi5XScBq1qcm8z1HzS09NmrghA48VGtG32krnlKjglIloWY_BEK_N32gjgQVd1ndHnHBX83m1tTKl2N5kh2gSYGTK9EGYF9DlGAswqdxaUyOHun5WCISfc_7Mf6k4OOl_U41dcenkoJD6huC57VP4yrPRqj3ugcANLYmmf9Wwn3ptM1ztg%3D%3D&tracking_referrer=www.npr.org\n",
      "\n"
     ]
    },
    {
     "cell_type": "heading",
     "level": 1,
     "metadata": {},
     "source": [
      "Model, Assumptions, and Simplifications"
     ]
    },
    {
     "cell_type": "markdown",
     "metadata": {},
     "source": [
      "Differential equations derived from Newton\u2019s laws of motion were applied to our project to determine the positions and velocities of the stars at each time step.  NOte: put in equations\n",
      "\n",
      "Galaxies are very complicated entities and there are a lot of factors that can contribute to the positions and velocities of stars.  First of all, galaxies contain an uneven distribution of matter which is very difficult to model.  Second of all, the stars themselves interact gravitationally with each other despite ultimately orbiting around the galactic center.  These factors involve advanced computational techniques and equipment that is more serious than an average computer that an undergraduate student may own.  Due to these complicated factors, we considered the stars in our model to be mass-less and we stated that all of the galactic mass occurs as a point mass in the center of the galaxy.  We considered the mass-less stars to be oriented in rings around the galactic.  Additionally we stated that any galaxy that acts as a disruptor will be simply a point mass and not have any stars around it.  These simplifications allowed us to conduct the computations at each time step using the differential equation mentioned earlier.\n",
      "\n",
      "Although many situations could be modeled using our model, we focused on just four that we felt were most important and could be confirmed against existing research.  We took these four cases from the Toomre and Toomre paper (reference in other paragraph), and we did indeed confirm that our results were consistent with theirs.  We modeled direct passage, retrograde passage, light mass disruptor and heavy mass disruptor cases.  Direct passage occurs when the stationary galaxy and disrupting galaxy have equal mass, and the disrupting galaxy approaches the stationary one along a parabola with the same direction that the stars are orbiting.   Retrograde passage is very similar except the disrupting galaxy approaches in the opposite direction that the stars are orbiting.  A way to visual these concepts is that the stars are orbiting counter clockwise and in a direct passage the galaxy approaches counter clockwise as well whereas the retrograde passage follows a clockwise trajectory.  A light mass disruptor was also modeled where the disrupting galaxy approaches along a direct approach, but had only a quarter of the mass of the stationary galaxy.  The heavy mass disruptor on the other hand was also a direct approach, but the disruptor had four times the galactic mass of the stationary galaxy.  It was important to validate our cases against existing cases so that we knew that our model was a good one.  Once that was confirmed, we could examine and research other possible situations and be confident that our model works.  \n"
     ]
    },
    {
     "cell_type": "heading",
     "level": 1,
     "metadata": {},
     "source": [
      "How do we set up general code?"
     ]
    },
    {
     "cell_type": "markdown",
     "metadata": {},
     "source": [
      "Our project consisted of two galaxies.  One galaxy contained stars and remained at the origin of our reference frame, whereas the other galaxy had a perfectly parabolic trajectory (in relation to the origin) and was simply a point mass with no stars.  This configuration allowed us to clearly observe the evolution of star positions in galaxy merger.  Additionally we only looked at direct passage, retrograde passage, light mass disruptor and heavy mass disruptor cases in this project which were explained previously. \n",
      "\n",
      "Let\u2019s begin by examining the stationary galaxy containing stars.  This galaxy has a point mass, which means that all of its mass occurs at a point in its center.  The galaxy contains 120 mass-less stars which are initially distributed throughout 5 discrete, concentric rings around the galaxy.  Each ring contains 12, 18, 24, 30, and 36 stars respectively (the inner most ring contains 12 stars).  For the direct passage, retrograde passage, and light mass disruptor cases; the concentric rings are placed at exactly 20, 30, 40, 50, and 60 percent of Rmin.  On the other hand, in the heavy mass disruptor case the rings are placed at 12, 18, 24, 30, and 36 percent of Rmin.  In all cases Rmin is set at 25 kpc.  We set the initial time to t = 0 and we set each time step to exactly 108 years.  In all of our cases, the heavier mass was set to 1011 solar masses.  \n",
      "\n",
      "Note: I need a little bit more time to study up on the classical mechanics before writing it.\n"
     ]
    },
    {
     "cell_type": "code",
     "collapsed": false,
     "input": [],
     "language": "python",
     "metadata": {},
     "outputs": []
    }
   ],
   "metadata": {}
  }
 ]
}