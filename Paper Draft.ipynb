{
 "metadata": {
  "name": "",
  "signature": "sha256:20e54bd85bc09a70279887d33b22ae0b05346d4fd1adb9074471eaf7b7c1c745"
 },
 "nbformat": 3,
 "nbformat_minor": 0,
 "worksheets": [
  {
   "cells": [
    {
     "cell_type": "heading",
     "level": 1,
     "metadata": {},
     "source": [
      "Introduction"
     ]
    },
    {
     "cell_type": "markdown",
     "metadata": {},
     "source": [
      "Computational physics is based upon the idea that a computer can simulate certain physical environments to produce novel scientific conclusions.  This field allows scientists to conduct experiments on the computer that are just not realistic or possible to do in the real world because it is used to investigate topics that involve extremely large data sets and complicated physical interactions[1].  This paper investigates the components and processes of modeling galaxy mergers on an undergraduate academic level.  The project outlined in this paper is derived from a paper written by Toomre and Toomre in 1972 that described the formation of galactic tails and bridges from close tidal interactions [2]. This project could be assigned to undergraduate students in an introductory computational physics class to demonstrate the capabilities and possibilities of what the field has to offer.  \n",
      "\n",
      "The galaxy mergers project teaches students numerical methods to solve ordinary differential equations.  The galaxies modeled interact via ordinary differential equations so students are able to learn about these techniques through an applied project that is a simplified version of a cutting edge computational physics topic today[3].  A lot of the time undergraduate physics students only take one computational physics class in which they learn about various techniques and algorithms that can in theory be applied to model more complicated physical situations [4].  Although it is important to learn about the underlying theory and algorithms, it is just as important to apply this knowledge to a problem that is representative of what computational physics researchers are investigating today.  The project in this paper does in fact accomplish this goal and teaches numerical methods through application.\n",
      "Although this project uses ordinary differential equations to model galaxy mergers, currently computational physics researchers use super computers to solve partial differential equations using the Boltzmann approximation [5].  The cutting edge research today accounts for the evolution of black holes and dark matter, star formation, and the interactions between individual stars [6, 7, 8, 9].  These characteristics are important in modeling galaxy mergers, but super computer are needed to compute all of the calculations.  Our model works well enough to see general trends in galactic shapes and is a good introduction for students who want to expand on this topic in the future.\n",
      "\n",
      "Although Toomre and Toomre\u2019s paper dates back to 1972, it is still a good model to use for undergraduate students in a computational physics class.  Their research provided good and accurate results despite the assumptions and simplifications that they made.  Researchers today can produce more precise results and investigate a larger range of topics than in 1972, but the foundation for producing these results is still the same.  This project is an excellent introduction to the capabilities of computational physic s and is a great learning opportunity for undergraduate physics students.  \n",
      "\n",
      "References:\n",
      "* [1] http://www.cec.uchile.cl/cinetica/pcordero/MC_libros/Hjorth-Jensen2008.pdf\n",
      "* [2] http://articles.adsabs.harvard.edu/cgi-bin/nph-iarticle_query?1972ApJ...178..623T&data_type=PDF_HIGH&whole_paper=YES&type=PRINTER&filetype=.pdf\n",
      "* [3] http://www.aanda.org/articles/aa/pdf/2010/10/aa12938-09.pdf\n",
      "* [4] http://arxiv.org/pdf/1303.4355.pdf\n",
      "* [5] http://www.mpa-garching.mpg.de/gadget/gadget2-paper.pdf\t Note: This paper was a bit tricky for me to understand, but I think it applies (with the Boltzmann Approximation method) but I just wanted to double check with you!\n",
      "* [6] http://adsabs.harvard.edu/abs/2013ApJ...778..129H\n",
      "* [7] http://pasj.oxfordjournals.org/content/61/3/481.short\n",
      "* [8] http://ned.ipac.caltech.edu/level5/Barnes2/paper.pdf\n",
      "* [9] http://www.aanda.org/articles/aa/pdf/2005/25/aa2036-04.pdf\n"
     ]
    },
    {
     "cell_type": "code",
     "collapsed": false,
     "input": [],
     "language": "python",
     "metadata": {},
     "outputs": []
    }
   ],
   "metadata": {}
  }
 ]
}