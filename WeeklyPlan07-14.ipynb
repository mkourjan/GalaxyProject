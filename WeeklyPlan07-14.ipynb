{
 "metadata": {
  "name": "",
  "signature": "sha256:c5a3772ceaf8444ba2010192125e27d3cec2821fedd88f714e26648254cc2c25"
 },
 "nbformat": 3,
 "nbformat_minor": 0,
 "worksheets": [
  {
   "cells": [
    {
     "cell_type": "heading",
     "level": 2,
     "metadata": {},
     "source": [
      "Goal for Week of 07/14"
     ]
    },
    {
     "cell_type": "markdown",
     "metadata": {},
     "source": [
      "1) What is the format of the output?\n",
      "\n",
      "    a. 1 array per particle with all timesteps?\n",
      "    \n",
      "    b. 1 array per timestep for all particles?\n",
      "\n",
      "2) Create Master output array to store results for all particles and all timesteps\n",
      "\n",
      "3) Write 2 functions:\n",
      "\n",
      "    a. Solve odeint and store in master array (1st fun.)\n",
      "\n",
      "    b. Plot the master array using interactive with 1 slider for the time (2nd fun.) --> Plot 2 views side by side (subplots)\n",
      "\n",
      "4) Create 4 Notebooks, one for each Toomre case"
     ]
    },
    {
     "cell_type": "heading",
     "level": 2,
     "metadata": {},
     "source": [
      "Future Goal"
     ]
    },
    {
     "cell_type": "markdown",
     "metadata": {},
     "source": [
      "1) Function that takes in mass M, S, type of passage --> user interface\n",
      "\n",
      "2) Call function to compute solutions\n",
      "\n",
      "3) User can call a plotting function to view the cases (1 perspective? 2? Select? --> Center of Mass of 2 galaxies, M perspective, S perspective)"
     ]
    },
    {
     "cell_type": "heading",
     "level": 2,
     "metadata": {},
     "source": [
      "Goal for the rest of the week"
     ]
    },
    {
     "cell_type": "markdown",
     "metadata": {},
     "source": [
      "* Change Make master array so that it takes in a step size for the time as one of its arguments\n",
      "* Go to Make Plots function and change the arguments to (t, dt)\n",
      "* When I call the interact, the make the step size dt as well\n",
      "* index is t/dt\n",
      "* Add 3 more calls to make master array\n",
      "* change name of \"results\" to Toomre-A and make all four cases in seperate cells\n",
      "* Make it so I can plot any of the four cases\n",
      "* If I have time: Make plots pretty by adding title about which case we are graphing, clean up graphs\n"
     ]
    },
    {
     "cell_type": "code",
     "collapsed": false,
     "input": [],
     "language": "python",
     "metadata": {},
     "outputs": []
    }
   ],
   "metadata": {}
  }
 ]
}