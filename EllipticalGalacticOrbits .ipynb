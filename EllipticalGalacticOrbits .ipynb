{
 "metadata": {
  "name": "",
  "signature": "sha256:c31d2b17db00b3a25906644b1c432d3589c0ec68319578c1dae22a7a36e1c22d"
 },
 "nbformat": 3,
 "nbformat_minor": 0,
 "worksheets": [
  {
   "cells": [
    {
     "cell_type": "code",
     "collapsed": false,
     "input": [
      "%pylab inline\n",
      "import numpy as np\n",
      "import matplotlib.pyplot as plt\n",
      "from scipy.integrate import odeint\n",
      "from IPython.html.widgets import interact, interactive, fixed"
     ],
     "language": "python",
     "metadata": {},
     "outputs": [
      {
       "output_type": "stream",
       "stream": "stdout",
       "text": [
        "Populating the interactive namespace from numpy and matplotlib\n"
       ]
      }
     ],
     "prompt_number": 1
    },
    {
     "cell_type": "code",
     "collapsed": false,
     "input": [],
     "language": "python",
     "metadata": {},
     "outputs": [],
     "prompt_number": 2
    },
    {
     "cell_type": "code",
     "collapsed": false,
     "input": [
      "e = 0.7\n",
      "P = 5.442 #x10^8 years\n",
      "\n",
      "Rmin = 25. #kpc\n",
      "c = Rmin*0.6 #60% of Rmin\n",
      "M = 1e11 #solar masses\n",
      "S = 1e11\n",
      "G = 4.49955370898e-08 #kpc^3 Msol^-1 (10^8 years)^-2\n",
      "\n",
      "\n",
      "timestep = P\n",
      "t = np.arange(0.,P,timestep)\n",
      "n = 2*np.pi/P\n",
      "\n",
      "Mo = n*t\n",
      "\n",
      "#ack!  M equation is transcendental.  Need to use an optimization solver"
     ],
     "language": "python",
     "metadata": {},
     "outputs": [],
     "prompt_number": 3
    },
    {
     "cell_type": "code",
     "collapsed": false,
     "input": [
      "from scipy.optimize import fsolve\n",
      "\n",
      "#Equation for mean anomaly in terms of eccentric anomaly.  We need to solve the inverse.\n",
      "def anomaly(E,Mo,e):\n",
      "    return E - e*np.sin(E) - Mo"
     ],
     "language": "python",
     "metadata": {},
     "outputs": [],
     "prompt_number": 11
    },
    {
     "cell_type": "code",
     "collapsed": false,
     "input": [
      "def ellipse(eccentricity=0.25,period=5.442,Mass=1.0e11,c=15.):\n",
      "    \n",
      "    G = 4.49955370898e-08 #kpc^3 Msol^-1 (10^8 years)^-2\n",
      "    e = eccentricity\n",
      "    P = period\n",
      "    timestep = P/100\n",
      "    t = np.arange(0.,P,timestep)\n",
      "    n = 2*np.pi/P #mean motion\n",
      "    M = n*t #Mean anomaly\n",
      "    E = np.zeros(M.shape) #eccentric anomaly\n",
      "    for i in range(len(M)):\n",
      "        E[i] = fsolve(func, 1.,args=(M[i],e)) #find roots of transcendental equation\n",
      "    theta = 2.*np.arctan(np.sqrt((1+e)/(1-e))*np.tan(E/2))\n",
      "    r = c/(1+e*np.cos(theta))\n",
      "    x = r*np.cos(theta) #star positions in Cartesian coordinates\n",
      "    y = r*np.sin(theta)\n",
      "    \n",
      "    #tangent vectors for velocity components\n",
      "    a = c/(1-e**2)\n",
      "    b = c/np.sqrt(1-e**2)\n",
      "    T_x = -a*np.sin(E)/np.sqrt(b**2*np.cos(E)**2+a**2*np.sin(E)**2)\n",
      "    T_y = b*np.cos(E)/np.sqrt(b**2*np.cos(E)**2+a**2*np.sin(E)**2)\n",
      "\n",
      "    v = np.sqrt(G*Mass*(2/r - 1/a))\n",
      "    vx = v*T_x\n",
      "    vy = v*T_y\n",
      "\n",
      "    #To match the code in Toomre, but this should be fixed\n",
      "    pos = []\n",
      "    vel = []\n",
      "    for i in range(len(x)):\n",
      "        pos.append((x[i],y[i]))\n",
      "        vel.append((vx[i],vy[i]))\n",
      "        \n",
      "    return np.array(pos),np.array(vel)"
     ],
     "language": "python",
     "metadata": {},
     "outputs": [],
     "prompt_number": 12
    },
    {
     "cell_type": "code",
     "collapsed": false,
     "input": [
      "def unpack_ring_vel(ring,velocity):\n",
      "    rx_points = []                             ## x-coordinates of all stars\n",
      "    ry_points = []                             ## y-coordinates of all stars\n",
      "    vrx = []                                   ## initial x velocity of all stars\n",
      "    vry = []                                   ## initial y velocity of all stars\n",
      "    for point in ring:\n",
      "        rx_points.append(point[0])\n",
      "        ry_points.append(point[1])\n",
      "    for point in velocity:\n",
      "        vrx.append(point[0])\n",
      "        vry.append(point[1])\n",
      "    return np.array(rx_points), np.array(ry_points), np.array(vrx), np.array(vry)  "
     ],
     "language": "python",
     "metadata": {},
     "outputs": [],
     "prompt_number": 13
    },
    {
     "cell_type": "code",
     "collapsed": false,
     "input": [
      "def derivstar(y,t,M, S):\n",
      "    G = 4.49955370898e-08 #kpc^3 M_sol^-1 unitTime^-2\n",
      "    rx = y[0]\n",
      "    vx = y[1]\n",
      "\n",
      "    ry = y[2]\n",
      "    vy = y[3]\n",
      "    \n",
      "    Rx = y[4]\n",
      "    Vx = y[5]\n",
      "\n",
      "    Ry = y[6]\n",
      "    Vy = y[7]\n",
      "    \n",
      "    R = sqrt(Rx**2+Ry**2)\n",
      "    \n",
      "    dvRx_dt = -G * ((M+S)/(sqrt(Rx**2+Ry**2))**3)*Rx\n",
      "    dvRy_dt = -G * ((M+S)/(sqrt(Rx**2+Ry**2))**3)*Ry\n",
      "    \n",
      "    r = sqrt(rx**2+ry**2)\n",
      "    \n",
      "    dvrx_dt = -G * ((M)/(sqrt(rx**2+ry**2))**3)*rx\n",
      "    dvry_dt = -G * ((M)/(sqrt(rx**2+ry**2))**3)*ry\n",
      "    \n",
      "    return np.array([vx, dvrx_dt, vy, dvry_dt, Vx, dvRx_dt, Vy, dvRy_dt])\n"
     ],
     "language": "python",
     "metadata": {},
     "outputs": [],
     "prompt_number": 14
    },
    {
     "cell_type": "code",
     "collapsed": false,
     "input": [
      "p,v = ellipse()\n",
      "sx,sy,svx,svy = unpack_ring_vel(p,v)"
     ],
     "language": "python",
     "metadata": {},
     "outputs": [],
     "prompt_number": 15
    },
    {
     "cell_type": "code",
     "collapsed": false,
     "input": [
      "#Run the simulation for two full revolutions in small steps.\n",
      "tmax = 2*P\n",
      "dt = 0.01\n",
      "ts = np.arange(0.,tmax+dt/10.,dt)\n",
      "\n",
      "MasterArray = []\n",
      "#compute results for each star\n",
      "for n in range(len(sx)):\n",
      "    output = odeint(derivstar, np.array([sx[n],svx[n],sy[n],svy[n]]),\n",
      "                        ts, args=(Mass,))\n",
      "                        \n",
      "    resx = output[:,0]\n",
      "    resvy = output[:,1]\n",
      "    resy = output[:,2]\n",
      "    resvy = output[:,3]\n",
      "    \n",
      "    MasterArray.append(resx)\n",
      "    MasterArray.append(resy)"
     ],
     "language": "python",
     "metadata": {},
     "outputs": [],
     "prompt_number": 16
    },
    {
     "cell_type": "code",
     "collapsed": false,
     "input": [
      "def Make_Plot_stars(results = fixed(MasterArray), t = dt, dt=fixed(dt)):\n",
      "    index = int(t/dt)\n",
      "    \n",
      "    \n",
      "    plt.plot(results[0][index],results[1][index],'ro')\n",
      "    plt.plot(0., 0., 'bo', label = 'Galactic Core')\n",
      "    plt.xlim(-60.,20.)\n",
      "    plt.ylim(-30.,30.)\n",
      "    plt.grid()\n",
      "    plt.legend(loc='upper center', bbox_to_anchor=(0.5, 1.15),\n",
      "          ncol=2, fancybox=True, shadow=True)\n",
      "    plt.show()"
     ],
     "language": "python",
     "metadata": {},
     "outputs": [],
     "prompt_number": 23
    },
    {
     "cell_type": "code",
     "collapsed": false,
     "input": [
      "a = interact(Make_Plot_stars,results = fixed(MasterArray),t = (dt,tmax), dt = fixed(dt))"
     ],
     "language": "python",
     "metadata": {},
     "outputs": [
      {
       "metadata": {},
       "output_type": "display_data",
       "png": "[encoded data removed]",
       "text": [
        "<matplotlib.figure.Figure at 0xa94ab38>"
       ]
      }
     ],
     "prompt_number": 24
    },
    {
     "cell_type": "code",
     "collapsed": false,
     "input": [],
     "language": "python",
     "metadata": {},
     "outputs": []
    }
   ],
   "metadata": {}
  }
 ]
}