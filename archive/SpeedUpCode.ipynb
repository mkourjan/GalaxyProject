{
 "metadata": {
  "name": "",
  "signature": "sha256:f6e3dac3affd6cd69bf172b00ada0f4d7c3f91df3db265d3298d2bd462d8d976"
 },
 "nbformat": 3,
 "nbformat_minor": 0,
 "worksheets": [
  {
   "cells": [
    {
     "cell_type": "heading",
     "level": 4,
     "metadata": {},
     "source": [
      "Description: This was my first attempt to speed up Bryce's code. I mostly played around with the plotting in this notebook. Overall it is not very useful. "
     ]
    },
    {
     "cell_type": "code",
     "collapsed": false,
     "input": [
      "%pylab inline\n",
      "import numpy as np\n",
      "import matplotlib.pyplot as plt\n",
      "from scipy.integrate import odeint\n",
      "from IPython.html.widgets import interact, interactive"
     ],
     "language": "python",
     "metadata": {},
     "outputs": [
      {
       "output_type": "stream",
       "stream": "stdout",
       "text": [
        "Populating the interactive namespace from numpy and matplotlib\n"
       ]
      }
     ],
     "prompt_number": 1
    },
    {
     "cell_type": "code",
     "collapsed": false,
     "input": [
      "pi = np.pi\n",
      "def ring(particles,radius,G,M):\n",
      "    particle = []\n",
      "    velocity = []\n",
      "    theta_n = 0\n",
      "    arclen = (2*pi)/particles              ## Arc length equally divided amongst the number of particles around circle\n",
      "    v = sqrt((G*M)/radius)                 ## Velocity for central force to stay in a circular orbit\n",
      "    while len(particle) < particles:\n",
      "        angle = theta_n*arclen\n",
      "        beta = angle + (pi/2.)          ## Angle beta = angle of the position plus 90 degrees, for velocity vector\n",
      "        theta_n += 1\n",
      "        particle.append((radius*np.cos(angle), radius*np.sin(angle)))   ## x = r*cos(theta)  y = r*sin(theta)\n",
      "        velocity.append((v*np.cos(beta), v*np.sin(beta)))               ## Same concept here as above.\n",
      "    return np.array(particle),np.array(velocity)            ## Returns two arrays, particle position and velocity."
     ],
     "language": "python",
     "metadata": {},
     "outputs": [],
     "prompt_number": 2
    },
    {
     "cell_type": "code",
     "collapsed": false,
     "input": [
      "def init_rings(G,M):\n",
      "    ring1,velocity1 = ring(12,.2,G,M)     ## All of these are dependent on details found in the paper by Toomre et al.\n",
      "    ring2,velocity2 = ring(18,.3,G,M)\n",
      "    ring3,velocity3 = ring(24,.4,G,M)\n",
      "    ring4,velocity4 = ring(30,.5,G,M)\n",
      "    ring5,velocity5 = ring(36,.6,G,M)\n",
      "    rings = np.array([ring1,ring2,ring3,ring4,ring5])\n",
      "    velocity = np.array([velocity1,velocity2,velocity3,velocity4,velocity5])\n",
      "    return rings,velocity             ## Returns arrays of both the positions and velocity."
     ],
     "language": "python",
     "metadata": {},
     "outputs": [],
     "prompt_number": 3
    },
    {
     "cell_type": "code",
     "collapsed": false,
     "input": [
      "def unpack_rings_vel(rings,velocity):\n",
      "    rx_points = []                             ## x-coordinates of all massless particles\n",
      "    ry_points = []                             ## y-coordinates\n",
      "    vrx = []                                   ## initial x velocity\n",
      "    vry = []                                   ## initial y velocity\n",
      "    for ring in rings:\n",
      "        for point in ring:\n",
      "            rx_points.append(point[0])\n",
      "            ry_points.append(point[1])\n",
      "    for ring in velocity:\n",
      "        for point in ring:\n",
      "            vrx.append(point[0])\n",
      "            vry.append(point[1])\n",
      "    return np.array(rx_points), np.array(ry_points), np.array(vrx), np.array(vry)  ## Returns numpy arrays of values"
     ],
     "language": "python",
     "metadata": {},
     "outputs": [],
     "prompt_number": 4
    },
    {
     "cell_type": "code",
     "collapsed": false,
     "input": [
      "def derivgalaxy(y,t,M,S):\n",
      "    G = 4.302e-3 #pc(M_solar)^-1 (km/s)^2\n",
      "    vRx = y[0]\n",
      "    vRy = y[2]\n",
      "    Rx = y[1]\n",
      "    Ry = y[3]\n",
      "    vrx = y[4]\n",
      "    vry = y[6]\n",
      "    rx = y[5]\n",
      "    ry = y[7]\n",
      "    R = sqrt(Rx**2+Ry**2)\n",
      "    delta_x = (Rx-rx)\n",
      "    delta_y = (Ry-ry)\n",
      "    \n",
      "    dvrx_dt = -G * ((M/sqrt(rx**2. + ry**2.)**3.)*rx - (S/sqrt(delta_x**2.+delta_y**2.)**3.)*delta_x \n",
      "                                                        + (S/sqrt(Rx**2.+Ry**2.)**3.)*Rx)\n",
      "    dvry_dt = -G * ((M/sqrt(rx**2. + ry**2.)**3.)*ry - (S/sqrt(delta_x**2.+delta_y**2.)**3.)*delta_y \n",
      "                                                        + (S/sqrt(Rx**2.+Ry**2.)**3.)*Ry)\n",
      "    \n",
      "    dvRx_dt = -G * ((M+S)/(sqrt(Rx**2+Ry**2))**3)*Rx\n",
      "    dvRy_dt = -G * ((M+S)/(sqrt(Rx**2+Ry**2))**3)*Ry\n",
      "    \n",
      "    return np.array([dvRx_dt, vRx, dvRy_dt, vRy, dvrx_dt, vrx, dvry_dt, vry])\n"
     ],
     "language": "python",
     "metadata": {},
     "outputs": [],
     "prompt_number": 5
    },
    {
     "cell_type": "code",
     "collapsed": false,
     "input": [
      "def Make_Master_Array(Initial_velocity_X = 0.85,Initial_velocity_Y = 0.65,t = 11., M=330., S=330., dt = 0.01):\n",
      "    G = 4.302e-3 #pc(M_solar)^-1 (km/s)^2\\\n",
      "    \n",
      "    rings,velocity = init_rings(G,M)                          ## Sets up the positions and initial velocities\n",
      "    \n",
      "    rx0,ry0,vrx_0,vry_0 = unpack_rings_vel(rings,velocity)    ## Converts values determined above to 1-D arrays\n",
      "    vRx_0 = Initial_velocity_X                                ## Initial velocity of disruptor galaxy in x\n",
      "    vRy_0 = Initial_velocity_Y                                ## Initial velocity of disruptor galaxy in y\n",
      "    Rx0 = -8                  ## initial position x\n",
      "    Ry0 = -9                  ## initial position y\n",
      "    \n",
      "    ts = np.arange(0.,t+0.1,0.01)\n",
      "    \n",
      "    MasterArray = []\n",
      "    \n",
      "    for n in range(len(rx0)):            ## Runs for all 120 particles in initial condition vectors.\n",
      "        \n",
      "        output = odeint(derivgalaxy, np.array([vRx_0,Rx0,vRy_0,Ry0,vrx_0[n],rx0[n],vry_0[n],ry0[n]]),\n",
      "                        ts, args=(M, S)) \n",
      "            \n",
      "        \n",
      "        rx = output[:,5]                \n",
      "        ry = output[:,7]\n",
      "            \n",
      "        if n == 0:\n",
      "            \n",
      "            Rx = output[:,1] ## Solve the ODE for each index and output the position values\n",
      "            Ry = output[:,3]                ## Used n == 0 for both legend clarity and to minimize the x/y\n",
      "                                            ## value of the disruptor galaxy to one point.\n",
      "                \n",
      "            MasterArray.append(Rx)\n",
      "            MasterArray.append(Ry)\n",
      "            MasterArray.append(rx)\n",
      "            MasterArray.append(ry)\n",
      "                        \n",
      "            \n",
      "        else:\n",
      "            MasterArray.append(rx)\n",
      "            MasterArray.append(ry)\n",
      "            \n",
      "    return MasterArray\n",
      "            "
     ],
     "language": "python",
     "metadata": {},
     "outputs": [],
     "prompt_number": 6
    },
    {
     "cell_type": "code",
     "collapsed": false,
     "input": [
      "print Make_Master_Array(Initial_velocity_X = 0.85,Initial_velocity_Y = 0.65,t = 11., M=330., S=330.)[3]"
     ],
     "language": "python",
     "metadata": {},
     "outputs": [
      {
       "output_type": "stream",
       "stream": "stdout",
       "text": [
        "[ 0.          0.02656392  0.05265716 ...,  0.06783839  0.0420662\n",
        "  0.01555139]\n"
       ]
      }
     ],
     "prompt_number": 7
    },
    {
     "cell_type": "code",
     "collapsed": false,
     "input": [
      "'''def Run_Function():\n",
      "    for i in range(122):\n",
      "        return Make_Master_Array(Initial_velocity_X = 0.85,Initial_velocity_Y = 0.65,t = 11., M=330., S=330.)[i]'''"
     ],
     "language": "python",
     "metadata": {},
     "outputs": [
      {
       "metadata": {},
       "output_type": "pyout",
       "prompt_number": 8,
       "text": [
        "'def Run_Function():\\n    for i in range(122):\\n        return Make_Master_Array(Initial_velocity_X = 0.85,Initial_velocity_Y = 0.65,t = 11., M=330., S=330.)[i]'"
       ]
      }
     ],
     "prompt_number": 8
    },
    {
     "cell_type": "code",
     "collapsed": false,
     "input": [
      "results = Make_Master_Array(Initial_velocity_X = 0.85,Initial_velocity_Y = 0.65,t = 20, M=330., S=330., dt = 0.01)"
     ],
     "language": "python",
     "metadata": {},
     "outputs": [
      {
       "output_type": "stream",
       "stream": "stdout",
       "text": [
        "Excess work done on this call (perhaps wrong Dfun type).\n",
        "Run with full_output = 1 to get quantitative information.\n"
       ]
      }
     ],
     "prompt_number": 9
    },
    {
     "cell_type": "code",
     "collapsed": false,
     "input": [
      "len(results)"
     ],
     "language": "python",
     "metadata": {},
     "outputs": [
      {
       "metadata": {},
       "output_type": "pyout",
       "prompt_number": 10,
       "text": [
        "242"
       ]
      }
     ],
     "prompt_number": 10
    },
    {
     "cell_type": "code",
     "collapsed": false,
     "input": [
      "plt.plot(results[0][0], results[1][0], 'ro')"
     ],
     "language": "python",
     "metadata": {},
     "outputs": [
      {
       "metadata": {},
       "output_type": "pyout",
       "prompt_number": 11,
       "text": [
        "[<matplotlib.lines.Line2D at 0xa597f98>]"
       ]
      },
      {
       "metadata": {},
       "output_type": "display_data",
       "png": "[encoded data removed]",
       "text": [
        "<matplotlib.figure.Figure at 0xa4f4278>"
       ]
      }
     ],
     "prompt_number": 11
    },
    {
     "cell_type": "code",
     "collapsed": false,
     "input": [
      "def Make_Plots(t):\n",
      "    for i in range(121):\n",
      "        plt.plot(results[int(t)][2*i], results[int(t)][2*i + 1])"
     ],
     "language": "python",
     "metadata": {},
     "outputs": [],
     "prompt_number": 12
    },
    {
     "cell_type": "code",
     "collapsed": false,
     "input": [
      "p = interact(Make_Plots,t = (0.,20.,1.))"
     ],
     "language": "python",
     "metadata": {},
     "outputs": [
      {
       "metadata": {},
       "output_type": "display_data",
       "png": "[encoded data removed]",
       "text": [
        "<matplotlib.figure.Figure at 0xcada2e8>"
       ]
      }
     ],
     "prompt_number": 13
    },
    {
     "cell_type": "code",
     "collapsed": false,
     "input": [
      "results[1][int(t)].shape"
     ],
     "language": "python",
     "metadata": {},
     "outputs": [
      {
       "ename": "NameError",
       "evalue": "name 't' is not defined",
       "output_type": "pyerr",
       "traceback": [
        "\u001b[1;31m---------------------------------------------------------------------------\u001b[0m\n\u001b[1;31mNameError\u001b[0m                                 Traceback (most recent call last)",
        "\u001b[1;32m<ipython-input-14-40a9ea5ed5c9>\u001b[0m in \u001b[0;36m<module>\u001b[1;34m()\u001b[0m\n\u001b[1;32m----> 1\u001b[1;33m \u001b[0mresults\u001b[0m\u001b[1;33m[\u001b[0m\u001b[1;36m1\u001b[0m\u001b[1;33m]\u001b[0m\u001b[1;33m[\u001b[0m\u001b[0mint\u001b[0m\u001b[1;33m(\u001b[0m\u001b[0mt\u001b[0m\u001b[1;33m)\u001b[0m\u001b[1;33m]\u001b[0m\u001b[1;33m.\u001b[0m\u001b[0mshape\u001b[0m\u001b[1;33m\u001b[0m\u001b[0m\n\u001b[0m",
        "\u001b[1;31mNameError\u001b[0m: name 't' is not defined"
       ]
      }
     ],
     "prompt_number": 14
    },
    {
     "cell_type": "code",
     "collapsed": false,
     "input": [
      "print results[19][0]#[0]"
     ],
     "language": "python",
     "metadata": {},
     "outputs": []
    },
    {
     "cell_type": "code",
     "collapsed": false,
     "input": [
      "def Make_Plots(t, dt):\n",
      "    index = int(t/dt)\n",
      "    plt.plot(results[0][:index], results[1][:index], 'b--', label = 'Disturbant Galaxy')\n",
      "    for i in range(1,121):\n",
      "        plt.plot(results[2*i][index], results[2*i + 1][index], 'ro', label = \"Stars\")\n",
      "    plt.show()"
     ],
     "language": "python",
     "metadata": {},
     "outputs": []
    },
    {
     "cell_type": "code",
     "collapsed": false,
     "input": [
      "m = interact(Make_Plots,t = (0.,20.), dt = (0.01))"
     ],
     "language": "python",
     "metadata": {},
     "outputs": []
    },
    {
     "cell_type": "code",
     "collapsed": false,
     "input": [],
     "language": "python",
     "metadata": {},
     "outputs": []
    },
    {
     "cell_type": "code",
     "collapsed": false,
     "input": [
      " "
     ],
     "language": "python",
     "metadata": {},
     "outputs": []
    },
    {
     "cell_type": "code",
     "collapsed": false,
     "input": [],
     "language": "python",
     "metadata": {},
     "outputs": []
    },
    {
     "cell_type": "code",
     "collapsed": false,
     "input": [],
     "language": "python",
     "metadata": {},
     "outputs": []
    }
   ],
   "metadata": {}
  }
 ]
}