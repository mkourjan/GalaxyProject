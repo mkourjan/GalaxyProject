{
 "metadata": {
  "name": "",
  "signature": "sha256:42a6b66e988ce83d6f082f7e51509e5e2505e09022fa7ed335b70d22eb1befd2"
 },
 "nbformat": 3,
 "nbformat_minor": 0,
 "worksheets": [
  {
   "cells": [
    {
     "cell_type": "markdown",
     "metadata": {},
     "source": [
      "Task for Friday 02/12 @ 11:30 -->\n",
      "    - American Journal of Physics guidelines for authors and download their template for article submissions "
     ]
    },
    {
     "cell_type": "markdown",
     "metadata": {},
     "source": [
      "Notes for 02/12 meeting -- 02/17 @ 10:10 on Wednesday!\n",
      "- Fix works cited (see picture)... you can put the official reference in square brackets and the link to the website in parenthesis and it will link the website to the reference\n",
      "-Incorporate comments that she printed into the paper\n",
      "-to bold comments double stars\n",
      "-italics = singles stars\n"
     ]
    },
    {
     "cell_type": "code",
     "collapsed": false,
     "input": [],
     "language": "python",
     "metadata": {},
     "outputs": []
    }
   ],
   "metadata": {}
  }
 ]
}