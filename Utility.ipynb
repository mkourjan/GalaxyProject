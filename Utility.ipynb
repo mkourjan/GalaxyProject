{
 "metadata": {
  "name": "",
  "signature": "sha256:d78c2bc336df4eea692a4952e1dbdd82d15f2616c322d7b0bbcf61a9b20796a1"
 },
 "nbformat": 3,
 "nbformat_minor": 0,
 "worksheets": [
  {
   "cells": [
    {
     "cell_type": "code",
     "collapsed": false,
     "input": [
      "%%file .gitignore\n",
      ".ipynb_checkpoints\n",
      "*.pyc\n",
      "archive/*.png"
     ],
     "language": "python",
     "metadata": {},
     "outputs": [
      {
       "output_type": "stream",
       "stream": "stdout",
       "text": [
        "Overwriting .gitignore\n"
       ]
      }
     ],
     "prompt_number": 2
    },
    {
     "cell_type": "code",
     "collapsed": false,
     "input": [],
     "language": "python",
     "metadata": {},
     "outputs": []
    }
   ],
   "metadata": {}
  }
 ]
}