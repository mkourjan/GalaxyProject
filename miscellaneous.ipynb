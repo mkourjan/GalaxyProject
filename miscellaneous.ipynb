{
 "metadata": {
  "name": "",
  "signature": "sha256:5ed751fd50cc9bf2a7710c449cabb0e7b36a794f029b4d8897f132c14c48b751"
 },
 "nbformat": 3,
 "nbformat_minor": 0,
 "worksheets": [
  {
   "cells": [
    {
     "cell_type": "code",
     "collapsed": false,
     "input": [
      "%%file .gitignore\n",
      "\n",
      "*.png\n"
     ],
     "language": "python",
     "metadata": {},
     "outputs": [
      {
       "output_type": "stream",
       "stream": "stdout",
       "text": [
        "Writing .gitignore\n"
       ]
      }
     ],
     "prompt_number": 1
    },
    {
     "cell_type": "code",
     "collapsed": false,
     "input": [],
     "language": "python",
     "metadata": {},
     "outputs": []
    }
   ],
   "metadata": {}
  }
 ]
}