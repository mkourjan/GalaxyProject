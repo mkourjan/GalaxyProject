{
 "metadata": {
  "name": "",
  "signature": "sha256:a6d141e511b6e460423e41ef1e6827821f86a12c915f90250b3b53ba1591fef7"
 },
 "nbformat": 3,
 "nbformat_minor": 0,
 "worksheets": []
}