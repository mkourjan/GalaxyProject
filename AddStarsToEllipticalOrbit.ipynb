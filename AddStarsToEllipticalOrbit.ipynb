{
 "metadata": {
  "name": "",
  "signature": "sha256:e4bab9660ccea13ce4fc2c4f4649a1f7eeda8dd5b677fb9a805909855c9087b6"
 },
 "nbformat": 3,
 "nbformat_minor": 0,
 "worksheets": [
  {
   "cells": [
    {
     "cell_type": "code",
     "collapsed": false,
     "input": [
      "%pylab inline\n",
      "import numpy as np\n",
      "import matplotlib.pyplot as plt\n",
      "from scipy.integrate import odeint\n",
      "from IPython.html.widgets import interact, interactive, fixed\n"
     ],
     "language": "python",
     "metadata": {},
     "outputs": [
      {
       "output_type": "stream",
       "stream": "stdout",
       "text": [
        "Populating the interactive namespace from numpy and matplotlib\n"
       ]
      }
     ],
     "prompt_number": 1
    },
    {
     "cell_type": "code",
     "collapsed": false,
     "input": [
      "e = 0.7\n",
      "P = 5.442 #x10^8 years\n",
      "\n",
      "Rmin = 25. #kpc\n",
      "c = Rmin #60% of Rmin\n",
      "M = 1.0e11 #solar masses\n",
      "S = 1.0e11\n",
      "G = 4.49955370898e-08 #kpc^3 Msol^-1 (10^8 years)^-2\n",
      "\n",
      "#let origin be at CM\n",
      "RCM = 0.; xCM = 0.; yCM = 0."
     ],
     "language": "python",
     "metadata": {},
     "outputs": [],
     "prompt_number": 33
    },
    {
     "cell_type": "code",
     "collapsed": false,
     "input": [
      "from scipy.optimize import fsolve\n",
      "\n",
      "#Equation for mean anomaly in terms of eccentric anomaly.  We need to solve the inverse.\n",
      "def anomaly(E,Ma,e):\n",
      "    return E - e*np.sin(E) - Ma "
     ],
     "language": "python",
     "metadata": {},
     "outputs": [],
     "prompt_number": 34
    },
    {
     "cell_type": "code",
     "collapsed": false,
     "input": [
      "pi = np.pi\n",
      "def ring(particles,percent,G,M):\n",
      "    \n",
      "    radius = Rmin * percent\n",
      "    particle = []\n",
      "    velocity = []\n",
      "    theta_n = 0\n",
      "    arclen = (2*pi)/particles              ## Arc length equally divided amongst the number of particles around circle\n",
      "    v = sqrt((G*M)/radius)                 ## Velocity for central force to stay in a circular orbit\n",
      "    while len(particle) < particles:\n",
      "        angle = theta_n*arclen\n",
      "        beta = angle + (pi/2.)          ## Angle beta = angle of the position plus 90 degrees, for velocity vector\n",
      "        theta_n += 1\n",
      "        particle.append((radius*np.cos(angle), radius*np.sin(angle)))   ## x = r*cos(theta)  y = r*sin(theta)\n",
      "        velocity.append((v*np.cos(beta), v*np.sin(beta)))               ## Same concept here as above.\n",
      "    return np.array(particle),np.array(velocity)            ## Returns two arrays, particle position and velocity."
     ],
     "language": "python",
     "metadata": {},
     "outputs": [],
     "prompt_number": 35
    },
    {
     "cell_type": "code",
     "collapsed": false,
     "input": [
      "def init_rings(G,M):\n",
      "    ring1,velocity1 = ring(12,.2,G,M)     ## All of these are dependent on details found in the paper by Toomre et al.\n",
      "    ring2,velocity2 = ring(18,.3,G,M)\n",
      "    ring3,velocity3 = ring(24,.4,G,M)\n",
      "    ring4,velocity4 = ring(30,.5,G,M)\n",
      "    ring5,velocity5 = ring(36,.6,G,M)\n",
      "    rings = np.array([ring1,ring2,ring3,ring4,ring5])\n",
      "    velocity = np.array([velocity1,velocity2,velocity3,velocity4,velocity5])\n",
      "    return rings,velocity             ## Returns arrays of both"
     ],
     "language": "python",
     "metadata": {},
     "outputs": [],
     "prompt_number": 36
    },
    {
     "cell_type": "code",
     "collapsed": false,
     "input": [
      "rings, velocity = init_rings(G, M)"
     ],
     "language": "python",
     "metadata": {},
     "outputs": [],
     "prompt_number": 37
    },
    {
     "cell_type": "code",
     "collapsed": false,
     "input": [
      "def unpack_rings_vel(rings,velocity):\n",
      "    rx_points = []                             ## x-coordinates of all massless particles\n",
      "    ry_points = []                             ## y-coordinates\n",
      "    vrx = []                                   ## initial x velocity\n",
      "    vry = []                                   ## initial y velocity\n",
      "    for ring in rings:\n",
      "        for point in ring:\n",
      "            rx_points.append(point[0])\n",
      "            ry_points.append(point[1])\n",
      "    for ring in velocity:\n",
      "        for point in ring:\n",
      "            vrx.append(point[0])\n",
      "            vry.append(point[1])\n",
      "    return np.array(rx_points), np.array(ry_points), np.array(vrx), np.array(vry)  ## Returns numpy arrays of values"
     ],
     "language": "python",
     "metadata": {},
     "outputs": [],
     "prompt_number": 38
    },
    {
     "cell_type": "code",
     "collapsed": false,
     "input": [
      "rx, ry, vrx, vry = unpack_rings_vel(rings, velocity)"
     ],
     "language": "python",
     "metadata": {},
     "outputs": [],
     "prompt_number": 39
    },
    {
     "cell_type": "code",
     "collapsed": false,
     "input": [
      "print len(rx), len(ry), len(vrx), len(vry)"
     ],
     "language": "python",
     "metadata": {},
     "outputs": [
      {
       "output_type": "stream",
       "stream": "stdout",
       "text": [
        "120 120 120 120\n"
       ]
      }
     ],
     "prompt_number": 40
    },
    {
     "cell_type": "code",
     "collapsed": false,
     "input": [
      "for i in range(len(rx)):\n",
      "    plt.scatter(rx[i], ry[i])\n",
      "    plt.quiver(rx[i], ry[i], vrx[i], vry[i])\n",
      "plt.show()"
     ],
     "language": "python",
     "metadata": {},
     "outputs": [
      {
       "metadata": {},
       "output_type": "display_data",
       "png": "[encoded data removed]",
       "text": [
        "<matplotlib.figure.Figure at 0xa928be0>"
       ]
      }
     ],
     "prompt_number": 41
    },
    {
     "cell_type": "code",
     "collapsed": false,
     "input": [
      "def ellipse(eccentricity=0.7,period=5.442,M=1.0e11,S = 1.0e11,c=25.):\n",
      "    \n",
      "    G = 4.49955370898e-08 #kpc^3 Msol^-1 (10^8 years)^-2\n",
      "    e = eccentricity\n",
      "    P = period\n",
      "    timestep = P/1000\n",
      "    t = np.arange(0.,P,timestep)\n",
      "    n = 2*np.pi/P #mean motion\n",
      "    Ma = n*t #Mean anomaly\n",
      "    E = np.zeros(Ma.shape) #eccentric anomaly\n",
      "    for i in range(len(Ma)):\n",
      "        E[i] = fsolve(anomaly, 1.,args=(Ma[i],e)) #find roots of transcendental equation\n",
      "    theta = 2.*np.arctan(np.sqrt((1+e)/(1-e))*np.tan(E/2))\n",
      "    r = c/(1+e*np.cos(theta))\n",
      "    x = r*np.cos(theta) #star positions in Cartesian coordinates\n",
      "    y = r*np.sin(theta)\n",
      "    \n",
      "    #tangent vectors for velocity components\n",
      "    a = c/(1-e**2)\n",
      "    b = c/np.sqrt(1-e**2)\n",
      "    T_x = -a*np.sin(E)/np.sqrt(b**2*np.cos(E)**2+a**2*np.sin(E)**2)\n",
      "    T_y = b*np.cos(E)/np.sqrt(b**2*np.cos(E)**2+a**2*np.sin(E)**2)\n",
      "\n",
      "    v = np.sqrt(G*M*(2/r - 1/a))\n",
      "    vx = v*T_x\n",
      "    vy = v*T_y\n",
      "\n",
      "    #To match the code in Toomre, but this should be fixed\n",
      "    pos = []\n",
      "    vel = []\n",
      "    for i in range(len(x)):\n",
      "        pos.append((x[i],y[i]))\n",
      "        vel.append((vx[i],vy[i]))\n",
      "        \n",
      "    return np.array(pos),np.array(vel)"
     ],
     "language": "python",
     "metadata": {},
     "outputs": [],
     "prompt_number": 42
    },
    {
     "cell_type": "code",
     "collapsed": false,
     "input": [],
     "language": "python",
     "metadata": {},
     "outputs": [],
     "prompt_number": 42
    },
    {
     "cell_type": "code",
     "collapsed": false,
     "input": [
      "pos, vel = ellipse(eccentricity=0.7,period=5.442,M=1.0e11,S = 1.0e11,c=25.)"
     ],
     "language": "python",
     "metadata": {},
     "outputs": [],
     "prompt_number": 43
    },
    {
     "cell_type": "code",
     "collapsed": false,
     "input": [],
     "language": "python",
     "metadata": {},
     "outputs": [],
     "prompt_number": 43
    },
    {
     "cell_type": "code",
     "collapsed": false,
     "input": [
      "rx0 = rx\n",
      "ry0 = ry"
     ],
     "language": "python",
     "metadata": {},
     "outputs": [],
     "prompt_number": 44
    },
    {
     "cell_type": "code",
     "collapsed": false,
     "input": [],
     "language": "python",
     "metadata": {},
     "outputs": [],
     "prompt_number": 44
    },
    {
     "cell_type": "code",
     "collapsed": false,
     "input": [],
     "language": "python",
     "metadata": {},
     "outputs": [],
     "prompt_number": 44
    },
    {
     "cell_type": "code",
     "collapsed": false,
     "input": [],
     "language": "python",
     "metadata": {},
     "outputs": [],
     "prompt_number": 44
    },
    {
     "cell_type": "code",
     "collapsed": false,
     "input": [
      "def derivstar(y,t,M,S):\n",
      "    G = 4.49955370898e-08 #kpc^3 M_sol^-1 unitTime^-2\n",
      "    Rx = y[0]\n",
      "    Vx = y[1]\n",
      "\n",
      "    Ry = y[2]\n",
      "    Vy = y[3]\n",
      "    \n",
      "    rxs = y[4]\n",
      "    vrx = y[5]\n",
      "    \n",
      "    rys = y[6]\n",
      "    vry = y[7]\n",
      "    \n",
      "    delta_x = (Rx-rxs)\n",
      "    delta_y = (Ry-rys)\n",
      "    \n",
      "    R = sqrt(Rx**2+Ry**2)\n",
      "    \n",
      "    dvrx_dt = -G * ((M/sqrt(rxs**2. + rys**2.)**3.)*rxs - (S/sqrt(delta_x**2.+delta_y**2.)**3.)*delta_x \n",
      "                                                        + (S/sqrt(Rx**2.+Ry**2.)**3.)*Rx)\n",
      "    dvry_dt = -G * ((M/sqrt(rxs**2. + rys**2.)**3.)*rys - (S/sqrt(delta_x**2.+delta_y**2.)**3.)*delta_y \n",
      "                                                        + (S/sqrt(Rx**2.+Ry**2.)**3.)*Ry)\n",
      "    \n",
      "    dvRx_dt = -G * ((M+S)/(sqrt(Rx**2+Ry**2))**3)*Rx\n",
      "    dvRy_dt = -G * ((M+S)/(sqrt(Rx**2+Ry**2))**3)*Ry\n",
      "    \n",
      "    return np.array([Vx, dvRx_dt, Vy, dvRy_dt, vrx, dvrx_dt, vry, dvry_dt])"
     ],
     "language": "python",
     "metadata": {},
     "outputs": [],
     "prompt_number": 45
    },
    {
     "cell_type": "code",
     "collapsed": false,
     "input": [],
     "language": "python",
     "metadata": {},
     "outputs": [],
     "prompt_number": 45
    },
    {
     "cell_type": "code",
     "collapsed": false,
     "input": [
      "#Run the simulation for two full revolutions in small steps.\n",
      "tmax = 20.\n",
      "dt = 0.000075\n",
      "ts = np.arange(0.,tmax+dt/10.,dt)\n",
      "\n",
      "MasterArray = []\n",
      "#compute results for each star\n",
      "\n",
      "\n",
      "for i in range(len(rx0)):\n",
      "    output = odeint(derivstar, np.array([pos[0][0],vel[0][0],pos[0][1],vel[0][1], rx0[i],ry0[i], vrx[i], vry[i]]),\n",
      "                        ts, args=(M,S))\n",
      "    rxss = output[:,4]                \n",
      "    ryss = output[:,5]\n",
      "            \n",
      "    if i == 0:\n",
      "            \n",
      "        Rx = output[:,0] ## Solve the ODE for each index and output the position values\n",
      "        Ry = output[:,2]                ## Used n == 0 for both legend clarity and to minimize the x/y\n",
      "                                            ## value of the disruptor galaxy to one point.\n",
      "                \n",
      "        MasterArray.append(Rx)\n",
      "        MasterArray.append(Ry)\n",
      "        MasterArray.append(rxss)\n",
      "        MasterArray.append(ryss)\n",
      "                        \n",
      "            \n",
      "    else:\n",
      "        MasterArray.append(rxss)\n",
      "        MasterArray.append(ryss)\n",
      "            \n",
      "    "
     ],
     "language": "python",
     "metadata": {},
     "outputs": [
      {
       "output_type": "stream",
       "stream": "stdout",
       "text": [
        "Excess work done on this call (perhaps wrong Dfun type).\n",
        "Run with full_output = 1 to get quantitative information.\n",
        "Excess work done on this call (perhaps wrong Dfun type)."
       ]
      },
      {
       "output_type": "stream",
       "stream": "stdout",
       "text": [
        "\n",
        "Run with full_output = 1 to get quantitative information.\n",
        "Excess work done on this call (perhaps wrong Dfun type)."
       ]
      },
      {
       "output_type": "stream",
       "stream": "stdout",
       "text": [
        "\n",
        "Run with full_output = 1 to get quantitative information.\n",
        "Excess work done on this call (perhaps wrong Dfun type)."
       ]
      },
      {
       "output_type": "stream",
       "stream": "stdout",
       "text": [
        "\n",
        "Run with full_output = 1 to get quantitative information.\n",
        "Excess work done on this call (perhaps wrong Dfun type)."
       ]
      },
      {
       "output_type": "stream",
       "stream": "stdout",
       "text": [
        "\n",
        "Run with full_output = 1 to get quantitative information.\n",
        "Excess work done on this call (perhaps wrong Dfun type)."
       ]
      },
      {
       "output_type": "stream",
       "stream": "stdout",
       "text": [
        "\n",
        "Run with full_output = 1 to get quantitative information.\n",
        "Excess work done on this call (perhaps wrong Dfun type)."
       ]
      },
      {
       "output_type": "stream",
       "stream": "stdout",
       "text": [
        "\n",
        "Run with full_output = 1 to get quantitative information.\n"
       ]
      }
     ],
     "prompt_number": 53
    },
    {
     "cell_type": "code",
     "collapsed": false,
     "input": [],
     "language": "python",
     "metadata": {},
     "outputs": [],
     "prompt_number": 53
    },
    {
     "cell_type": "code",
     "collapsed": false,
     "input": [
      "results = MasterArray\n",
      "#print results"
     ],
     "language": "python",
     "metadata": {},
     "outputs": [],
     "prompt_number": 54
    },
    {
     "cell_type": "code",
     "collapsed": false,
     "input": [
      "def Make_Plot_stars(t = dt, dt=fixed(dt)):\n",
      "    index = int(t/dt)\n",
      "    \n",
      "    Rx = results[0][:index]\n",
      "    Ry = results[1][:index]\n",
      "    RxS = xCM + (M/(M+S))*Rx\n",
      "    RyS = yCM + (M/(M+S))*Ry\n",
      "    RxM = xCM - (S/(M+S))*Rx\n",
      "    RyM = yCM - (S/(M+S))*Ry\n",
      "    plt.plot(RxS, RyS, 'b--', label = 'Disturbing Galaxy')\n",
      "    plt.plot(RxS[-1], RyS[-1], 'bo')\n",
      "    plt.plot(RxM, RyM, 'r--', label = 'Main Galaxy')\n",
      "    plt.plot(RxM[-1], RyM[-1], 'ro')\n",
      "    for i in range(1, 121):\n",
      "        plt.plot(results[2*i][index]+RxM[-1], results[2*i + 1][index]+RyM[-1], 'go', label = \"Stars\")\n",
      "        \n",
      "    #plt.xlim(1.1*x[0],xCM-1.1*x[0])\n",
      "    #plt.ylim(1.1*y[0],yCM-1.1*y[0])\n",
      "    plt.xlim(-50, 50)\n",
      "    plt.ylim(-50, 50)\n",
      "    plt.grid()\n",
      "    #plt.legend(loc='upper center', bbox_to_anchor=(0.5, 1.15),\n",
      "          #ncol=2, fancybox=True, shadow=True)\n",
      "    plt.show()"
     ],
     "language": "python",
     "metadata": {},
     "outputs": [],
     "prompt_number": 55
    },
    {
     "cell_type": "code",
     "collapsed": false,
     "input": [
      "a = interact(Make_Plot_stars,t = (dt,tmax), dt = fixed(dt))"
     ],
     "language": "python",
     "metadata": {},
     "outputs": [
      {
       "metadata": {},
       "output_type": "display_data",
       "png": "[encoded data removed]",
       "text": [
        "<matplotlib.figure.Figure at 0xa3ca748>"
       ]
      }
     ],
     "prompt_number": 56
    },
    {
     "cell_type": "code",
     "collapsed": false,
     "input": [],
     "language": "python",
     "metadata": {},
     "outputs": [],
     "prompt_number": 74
    },
    {
     "cell_type": "code",
     "collapsed": false,
     "input": [],
     "language": "python",
     "metadata": {},
     "outputs": []
    }
   ],
   "metadata": {}
  }
 ]
}