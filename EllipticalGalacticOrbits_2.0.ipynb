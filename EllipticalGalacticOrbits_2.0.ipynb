{
 "metadata": {
  "name": "",
  "signature": "sha256:3bfcb34739e4a5efb9a18fcb1a687336f1e465c535d5a6c4b738c62ffe235c96"
 },
 "nbformat": 3,
 "nbformat_minor": 0,
 "worksheets": [
  {
   "cells": [
    {
     "cell_type": "code",
     "collapsed": false,
     "input": [
      "%pylab inline\n",
      "import numpy as np\n",
      "import matplotlib.pyplot as plt\n",
      "from scipy.integrate import odeint\n",
      "from IPython.html.widgets import interact, interactive, fixed\n"
     ],
     "language": "python",
     "metadata": {},
     "outputs": [
      {
       "output_type": "stream",
       "stream": "stdout",
       "text": [
        "Populating the interactive namespace from numpy and matplotlib\n"
       ]
      }
     ],
     "prompt_number": 1
    },
    {
     "cell_type": "code",
     "collapsed": false,
     "input": [
      "e = 0.7\n",
      "P = 5.442 #x10^8 years\n",
      "\n",
      "Rmin = 25. #kpc\n",
      "c = Rmin*0.6 #60% of Rmin\n",
      "M = 1e11 #solar masses\n",
      "S = 1e11\n",
      "G = 4.49955370898e-08 #kpc^3 Msol^-1 (10^8 years)^-2\n",
      "\n",
      "#let origin be at CM\n",
      "RCM = 0.; xCM = 0.; yCM = 0."
     ],
     "language": "python",
     "metadata": {},
     "outputs": [],
     "prompt_number": 2
    },
    {
     "cell_type": "code",
     "collapsed": false,
     "input": [
      "from scipy.optimize import fsolve\n",
      "\n",
      "#Equation for mean anomaly in terms of eccentric anomaly.  We need to solve the inverse.\n",
      "def anomaly(E,Ma,e):\n",
      "    return E - e*np.sin(E) - Ma "
     ],
     "language": "python",
     "metadata": {},
     "outputs": [],
     "prompt_number": 3
    },
    {
     "cell_type": "code",
     "collapsed": false,
     "input": [
      "def ellipse(eccentricity=0.25,period=5.442,M=1.0e11,S = 1.0e11,c=15.):\n",
      "    \n",
      "    G = 4.49955370898e-08 #kpc^3 Msol^-1 (10^8 years)^-2\n",
      "    e = eccentricity\n",
      "    P = period\n",
      "    timestep = P\n",
      "    t = np.arange(0.,P,timestep)\n",
      "    n = 2*np.pi/P #mean motion\n",
      "    Ma = n*t #Mean anomaly\n",
      "    E = np.zeros(Ma.shape) #eccentric anomaly\n",
      "    for i in range(len(Ma)):\n",
      "        E[i] = fsolve(anomaly, 1.,args=(Ma[i],e)) #find roots of transcendental equation\n",
      "    theta = 2.*np.arctan(np.sqrt((1+e)/(1-e))*np.tan(E/2))\n",
      "    r = c/(1+e*np.cos(theta))\n",
      "    x = r*np.cos(theta) #star positions in Cartesian coordinates\n",
      "    y = r*np.sin(theta)\n",
      "    \n",
      "    #tangent vectors for velocity components\n",
      "    a = c/(1-e**2)\n",
      "    b = c/np.sqrt(1-e**2)\n",
      "    T_x = -a*np.sin(E)/np.sqrt(b**2*np.cos(E)**2+a**2*np.sin(E)**2)\n",
      "    T_y = b*np.cos(E)/np.sqrt(b**2*np.cos(E)**2+a**2*np.sin(E)**2)\n",
      "\n",
      "    v = np.sqrt(G*M*(2/r - 1/a))\n",
      "    vx = v*T_x\n",
      "    vy = v*T_y\n",
      "\n",
      "    #To match the code in Toomre, but this should be fixed\n",
      "    pos = []\n",
      "    vel = []\n",
      "    for i in range(len(x)):\n",
      "        pos.append((x[i],y[i]))\n",
      "        vel.append((vx[i],vy[i]))\n",
      "        \n",
      "    return np.array(pos),np.array(vel)"
     ],
     "language": "python",
     "metadata": {},
     "outputs": [],
     "prompt_number": 7
    },
    {
     "cell_type": "code",
     "collapsed": false,
     "input": [],
     "language": "python",
     "metadata": {},
     "outputs": [],
     "prompt_number": 7
    },
    {
     "cell_type": "code",
     "collapsed": false,
     "input": [
      "def derivstar(y,t,M,S):\n",
      "    G = 4.49955370898e-08 #kpc^3 M_sol^-1 unitTime^-2\n",
      "    Rx = y[0]\n",
      "    Vx = y[1]\n",
      "\n",
      "    Ry = y[2]\n",
      "    Vy = y[3]\n",
      "    \n",
      "    R = sqrt(Rx**2+Ry**2)\n",
      "    \n",
      "    dvRx_dt = -G * ((M+S)/(sqrt(Rx**2+Ry**2))**3)*Rx\n",
      "    dvRy_dt = -G * ((M+S)/(sqrt(Rx**2+Ry**2))**3)*Ry\n",
      "    \n",
      "    return np.array([Vx, dvRx_dt, Vy, dvRy_dt])"
     ],
     "language": "python",
     "metadata": {},
     "outputs": [],
     "prompt_number": 8
    },
    {
     "cell_type": "code",
     "collapsed": false,
     "input": [
      "pos, vel = ellipse(eccentricity=0.25,period=5.442,M=1.0e11,S = 1.0e11,c=15.)"
     ],
     "language": "python",
     "metadata": {},
     "outputs": [],
     "prompt_number": 9
    },
    {
     "cell_type": "code",
     "collapsed": false,
     "input": [
      "vel[0]"
     ],
     "language": "python",
     "metadata": {},
     "outputs": [
      {
       "metadata": {},
       "output_type": "pyout",
       "prompt_number": 19,
       "text": [
        "array([ -0.        ,  21.64956146])"
       ]
      }
     ],
     "prompt_number": 19
    },
    {
     "cell_type": "code",
     "collapsed": false,
     "input": [
      "#Run the simulation for two full revolutions in small steps.\n",
      "tmax = 20.\n",
      "dt = 0.01\n",
      "ts = np.arange(0.,tmax+dt/10.,dt)\n",
      "\n",
      "#MasterArray = []\n",
      "#compute results for each star\n",
      "\n",
      "output = odeint(derivstar, np.array([pos[0][0],vel[0][0],pos[0][1],vel[0][1]]),\n",
      "                        ts, args=(M,S))\n",
      "'''                        \n",
      "resx = output[:,0]\n",
      "resvy = output[:,1]\n",
      "resy = output[:,2]\n",
      "resvy = output[:,3]\n",
      "    \n",
      "MasterArray.append(resx)\n",
      "MasterArray.append(resy)\n",
      "'''"
     ],
     "language": "python",
     "metadata": {},
     "outputs": [],
     "prompt_number": 20
    },
    {
     "cell_type": "code",
     "collapsed": false,
     "input": [
      "print output"
     ],
     "language": "python",
     "metadata": {},
     "outputs": [
      {
       "output_type": "stream",
       "stream": "stdout",
       "text": [
        "[[ 12.          -0.           0.          21.64956146]\n",
        " [ 11.99687529  -0.6249448    0.21647681  21.64392353]\n",
        " [ 11.98750097  -1.2499302    0.43284085  21.62700277]\n",
        " ..., \n",
        " [  3.81488733  31.31985758  -8.074761     1.80720749]\n",
        " [  4.12564266  30.82798008  -8.05165807   2.80642403]\n",
        " [  4.43138608  30.31783839  -8.01876892   3.76471757]]\n"
       ]
      }
     ],
     "prompt_number": 41
    },
    {
     "cell_type": "code",
     "collapsed": false,
     "input": [
      "def Make_Plot_stars(results = fixed(output), t = dt, dt=fixed(dt)):\n",
      "    index = int(t/dt)\n",
      "    \n",
      "    x = results[:index,0]\n",
      "    y = results[:index,2]\n",
      "    RxS = xCM + (M/(M+S))*x\n",
      "    RyS = yCM + (M/(M+S))*y\n",
      "    RxM = xCM - (S/(M+S))*x\n",
      "    RyM = yCM - (S/(M+S))*y\n",
      "    plt.plot(RxS, RyS, 'b--', label = 'Disturbing Galaxy')\n",
      "    plt.plot(RxS[-1], RyS[-1], 'bo')\n",
      "    plt.plot(RxM, RyM, 'r--', label = 'Main Galaxy')\n",
      "    plt.plot(RxM[-1], RyM[-1], 'ro')\n",
      "    #plt.xlim(1.1*x[0],xCM-1.1*x[0])\n",
      "    #plt.ylim(1.1*y[0],yCM-1.1*y[0])\n",
      "    plt.xlim(-10, 10)\n",
      "    plt.ylim(-10, 10)\n",
      "    plt.grid()\n",
      "    plt.legend(loc='upper center', bbox_to_anchor=(0.5, 1.15),\n",
      "          ncol=2, fancybox=True, shadow=True)\n",
      "    plt.show()"
     ],
     "language": "python",
     "metadata": {},
     "outputs": [],
     "prompt_number": 45
    },
    {
     "cell_type": "code",
     "collapsed": false,
     "input": [
      "a = interact(Make_Plot_stars,results = fixed(output),t = (dt,tmax), dt = fixed(dt))"
     ],
     "language": "python",
     "metadata": {},
     "outputs": [
      {
       "metadata": {},
       "output_type": "display_data",
       "png": "[encoded data removed]",
       "text": [
        "<matplotlib.figure.Figure at 0xa755080>"
       ]
      }
     ],
     "prompt_number": 46
    },
    {
     "cell_type": "code",
     "collapsed": false,
     "input": [],
     "language": "python",
     "metadata": {},
     "outputs": []
    }
   ],
   "metadata": {}
  }
 ]
}