{
 "metadata": {
  "name": "",
  "signature": "sha256:15d85c9da4824c44f7a7dc7d053c7a084c45474dde6c9ce7e60e2f1a2c5053cc"
 },
 "nbformat": 3,
 "nbformat_minor": 0,
 "worksheets": [
  {
   "cells": [
    {
     "cell_type": "code",
     "collapsed": false,
     "input": [
      "%pylab inline\n",
      "import numpy as np\n",
      "import matplotlib.pyplot as plt\n",
      "from scipy.integrate import odeint\n",
      "from IPython.html.widgets import interact, interactive, fixed\n"
     ],
     "language": "python",
     "metadata": {},
     "outputs": [
      {
       "output_type": "stream",
       "stream": "stdout",
       "text": [
        "Populating the interactive namespace from numpy and matplotlib\n"
       ]
      }
     ],
     "prompt_number": 1
    },
    {
     "cell_type": "code",
     "collapsed": false,
     "input": [
      "e = 0.7\n",
      "P = 5.442 #x10^8 years\n",
      "\n",
      "Rmin = 25. #kpc\n",
      "c = Rmin #60% of Rmin\n",
      "M = 1e11 #solar masses\n",
      "S = 1e11\n",
      "G = 4.49955370898e-08 #kpc^3 Msol^-1 (10^8 years)^-2\n",
      "\n",
      "#let origin be at CM\n",
      "RCM = 0.; xCM = 0.; yCM = 0."
     ],
     "language": "python",
     "metadata": {},
     "outputs": [],
     "prompt_number": 2
    },
    {
     "cell_type": "code",
     "collapsed": false,
     "input": [
      "from scipy.optimize import fsolve\n",
      "\n",
      "#Equation for mean anomaly in terms of eccentric anomaly.  We need to solve the inverse.\n",
      "def anomaly(E,Ma,e):\n",
      "    return E - e*np.sin(E) - Ma "
     ],
     "language": "python",
     "metadata": {},
     "outputs": [],
     "prompt_number": 3
    },
    {
     "cell_type": "code",
     "collapsed": false,
     "input": [
      "def ellipse(eccentricity=0.7,period=5.442,M=1.0e11,S = 1.0e11,c=50.):\n",
      "    \n",
      "    G = 4.49955370898e-08 #kpc^3 Msol^-1 (10^8 years)^-2\n",
      "    e = eccentricity\n",
      "    P = period\n",
      "    timestep = P/1000\n",
      "    t = np.arange(0.,P,timestep)\n",
      "    n = 2*np.pi/P #mean motion\n",
      "    Ma = n*t #Mean anomaly\n",
      "    E = np.zeros(Ma.shape) #eccentric anomaly\n",
      "    for i in range(len(Ma)):\n",
      "        E[i] = fsolve(anomaly, 1.,args=(Ma[i],e)) #find roots of transcendental equation\n",
      "    theta = 2.*np.arctan(np.sqrt((1+e)/(1-e))*np.tan(E/2))\n",
      "    r = c/(1+e*np.cos(theta))\n",
      "    x = r*np.cos(theta) #star positions in Cartesian coordinates\n",
      "    y = r*np.sin(theta)\n",
      "    \n",
      "    #tangent vectors for velocity components\n",
      "    a = c/(1-e**2)\n",
      "    b = c/np.sqrt(1-e**2)\n",
      "    T_x = -a*np.sin(E)/np.sqrt(b**2*np.cos(E)**2+a**2*np.sin(E)**2)\n",
      "    T_y = b*np.cos(E)/np.sqrt(b**2*np.cos(E)**2+a**2*np.sin(E)**2)\n",
      "\n",
      "    v = np.sqrt(G*M*(2/r - 1/a))\n",
      "    vx = v*T_x\n",
      "    vy = v*T_y\n",
      "\n",
      "    #To match the code in Toomre, but this should be fixed\n",
      "    pos = []\n",
      "    vel = []\n",
      "    for i in range(len(x)):\n",
      "        pos.append((x[i],y[i]))\n",
      "        vel.append((vx[i],vy[i]))\n",
      "        \n",
      "    return np.array(pos),np.array(vel)"
     ],
     "language": "python",
     "metadata": {},
     "outputs": [],
     "prompt_number": 34
    },
    {
     "cell_type": "code",
     "collapsed": false,
     "input": [],
     "language": "python",
     "metadata": {},
     "outputs": [],
     "prompt_number": 34
    },
    {
     "cell_type": "code",
     "collapsed": false,
     "input": [
      "def derivstar(y,t,M,S):\n",
      "    G = 4.49955370898e-08 #kpc^3 M_sol^-1 unitTime^-2\n",
      "    Rx = y[0]\n",
      "    Vx = y[1]\n",
      "\n",
      "    Ry = y[2]\n",
      "    Vy = y[3]\n",
      "    \n",
      "    R = sqrt(Rx**2+Ry**2)\n",
      "    \n",
      "    dvRx_dt = -G * ((M+S)/(sqrt(Rx**2+Ry**2))**3)*Rx\n",
      "    dvRy_dt = -G * ((M+S)/(sqrt(Rx**2+Ry**2))**3)*Ry\n",
      "    \n",
      "    return np.array([Vx, dvRx_dt, Vy, dvRy_dt])"
     ],
     "language": "python",
     "metadata": {},
     "outputs": [],
     "prompt_number": 35
    },
    {
     "cell_type": "code",
     "collapsed": false,
     "input": [
      "pos, vel = ellipse(eccentricity=0.1,period=5.442,M=1.0e11,S = 1.0e11,c=50.)"
     ],
     "language": "python",
     "metadata": {},
     "outputs": [],
     "prompt_number": 48
    },
    {
     "cell_type": "code",
     "collapsed": false,
     "input": [
      "vel[0]"
     ],
     "language": "python",
     "metadata": {},
     "outputs": [
      {
       "metadata": {},
       "output_type": "pyout",
       "prompt_number": 49,
       "text": [
        "array([ -0.        ,  10.43499879])"
       ]
      }
     ],
     "prompt_number": 49
    },
    {
     "cell_type": "code",
     "collapsed": false,
     "input": [
      "#Run the simulation for two full revolutions in small steps.\n",
      "tmax = 20.\n",
      "dt = 0.01\n",
      "ts = np.arange(0.,tmax+dt/10.,dt)\n",
      "\n",
      "#MasterArray = []\n",
      "#compute results for each star\n",
      "\n",
      "output = odeint(derivstar, np.array([pos[0][0],vel[0][0],pos[0][1],vel[0][1]]),\n",
      "                        ts, args=(M,S))\n",
      "'''                        \n",
      "resx = output[:,0]\n",
      "resvy = output[:,1]\n",
      "resy = output[:,2]\n",
      "resvy = output[:,3]\n",
      "    \n",
      "MasterArray.append(resx)\n",
      "MasterArray.append(resy)\n",
      "'''"
     ],
     "language": "python",
     "metadata": {},
     "outputs": [
      {
       "metadata": {},
       "output_type": "pyout",
       "prompt_number": 50,
       "text": [
        "'                        \\nresx = output[:,0]\\nresvy = output[:,1]\\nresy = output[:,2]\\nresvy = output[:,3]\\n    \\nMasterArray.append(resx)\\nMasterArray.append(resy)\\n'"
       ]
      }
     ],
     "prompt_number": 50
    },
    {
     "cell_type": "code",
     "collapsed": false,
     "input": [
      "print output"
     ],
     "language": "python",
     "metadata": {},
     "outputs": [
      {
       "output_type": "stream",
       "stream": "stdout",
       "text": [
        "[[  4.54545455e+01  -0.00000000e+00   0.00000000e+00   1.04349988e+01]\n",
        " [  4.54543277e+01  -4.35557060e-02   1.04349809e-01   1.04349488e+01]\n",
        " [  4.54536743e+01  -8.71115565e-02   2.08698629e-01   1.04347988e+01]\n",
        " ..., \n",
        " [  2.15710512e+01   1.48632121e+01  -2.71893988e+01   3.25418904e+00]\n",
        " [  2.17194511e+01   1.48167543e+01  -2.71565650e+01   3.31251140e+00]\n",
        " [  2.18673861e+01   1.47702468e+01  -2.71231499e+01   3.37042854e+00]]\n"
       ]
      }
     ],
     "prompt_number": 51
    },
    {
     "cell_type": "code",
     "collapsed": false,
     "input": [
      "def Make_Plot_stars(results = fixed(output), t = dt, dt=fixed(dt)):\n",
      "    index = int(t/dt)\n",
      "    \n",
      "    x = results[:index,0]\n",
      "    y = results[:index,2]\n",
      "    RxS = xCM + (M/(M+S))*x\n",
      "    RyS = yCM + (M/(M+S))*y\n",
      "    RxM = xCM - (S/(M+S))*x\n",
      "    RyM = yCM - (S/(M+S))*y\n",
      "    plt.plot(RxS, RyS, 'b--', label = 'Disturbing Galaxy')\n",
      "    plt.plot(RxS[-1], RyS[-1], 'bo')\n",
      "    plt.plot(RxM, RyM, 'r--', label = 'Main Galaxy')\n",
      "    plt.plot(RxM[-1], RyM[-1], 'ro')\n",
      "    #plt.xlim(1.1*x[0],xCM-1.1*x[0])\n",
      "    #plt.ylim(1.1*y[0],yCM-1.1*y[0])\n",
      "    plt.xlim(-50, 50)\n",
      "    plt.ylim(-50, 50)\n",
      "    plt.grid()\n",
      "    plt.legend(loc='upper center', bbox_to_anchor=(0.5, 1.15),\n",
      "          ncol=2, fancybox=True, shadow=True)\n",
      "    plt.show()"
     ],
     "language": "python",
     "metadata": {},
     "outputs": [],
     "prompt_number": 52
    },
    {
     "cell_type": "code",
     "collapsed": false,
     "input": [
      "a = interact(Make_Plot_stars,results = fixed(output),t = (dt,tmax), dt = fixed(dt))"
     ],
     "language": "python",
     "metadata": {},
     "outputs": [
      {
       "metadata": {},
       "output_type": "display_data",
       "png": "[encoded data removed]",
       "text": [
        "<matplotlib.figure.Figure at 0xa49da90>"
       ]
      }
     ],
     "prompt_number": 53
    },
    {
     "cell_type": "code",
     "collapsed": false,
     "input": [],
     "language": "python",
     "metadata": {},
     "outputs": [],
     "prompt_number": 11
    }
   ],
   "metadata": {}
  }
 ]
}