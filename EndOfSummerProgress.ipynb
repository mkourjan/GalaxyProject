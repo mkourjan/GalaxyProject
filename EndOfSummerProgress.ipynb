{
 "metadata": {
  "name": "",
  "signature": "sha256:edda16a25a25ce5bd39b18c5b2f12c692a683225e83b65cce5d5feb1fc35e505"
 },
 "nbformat": 3,
 "nbformat_minor": 0,
 "worksheets": [
  {
   "cells": [
    {
     "cell_type": "markdown",
     "metadata": {},
     "source": [
      "We finished the parabolic and elliptical orbits for the galaxies.  We need to work on the eating stars problem for the elliptical orbits though.  Also, the Rmin parameter does not transfer over to the plots.  The problem is that we define Rmin to be 25 and the Rmin we see on the plots is not 25.  Perfecting these orbits would be a priority.  Another idea we were working on is creating a random distribution of stars from 20% of Rmin to 60% of Rmin instead of having preset rings of stars.  A general idea that would be interesting to investigate after we got the random distribution working is whether we can inport star data into my code from an external source and have my code compute the star trajectories. An idea that we had was to look at the position of the sun after the collision between the milkyway and adromeda galaxies.  "
     ]
    },
    {
     "cell_type": "code",
     "collapsed": false,
     "input": [],
     "language": "python",
     "metadata": {},
     "outputs": []
    }
   ],
   "metadata": {}
  }
 ]
}