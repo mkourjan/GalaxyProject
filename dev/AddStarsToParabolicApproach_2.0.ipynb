{
 "metadata": {
  "name": "",
  "signature": "sha256:c81e09bcd762d5071c5558ed75a9cfacd63d3a5a7bd4eba637b64bd4904b5c6f"
 },
 "nbformat": 3,
 "nbformat_minor": 0,
 "worksheets": [
  {
   "cells": [
    {
     "cell_type": "code",
     "collapsed": false,
     "input": [
      "%pylab inline\n",
      "import numpy as np\n",
      "import matplotlib.pyplot as plt\n",
      "from scipy.integrate import odeint\n",
      "from IPython.html.widgets import interact, interactive, fixed"
     ],
     "language": "python",
     "metadata": {},
     "outputs": [
      {
       "output_type": "stream",
       "stream": "stdout",
       "text": [
        "Populating the interactive namespace from numpy and matplotlib\n"
       ]
      }
     ],
     "prompt_number": 1
    },
    {
     "cell_type": "code",
     "collapsed": false,
     "input": [
      "G = 4.49955370898e-08 #kpc^3 Msol^-1 (10^8 years)^-2\n",
      "M = 1.0e11 #solar masses\n",
      "S = M"
     ],
     "language": "python",
     "metadata": {},
     "outputs": [],
     "prompt_number": 2
    },
    {
     "cell_type": "code",
     "collapsed": false,
     "input": [
      "#let origin be at CM\n",
      "RCM = 0.; xCM = 0.; yCM = 0.\n",
      "\n",
      "#minimum separation distance\n",
      "Rmin = 25.0 #kpc\n",
      "\n",
      "#Velocity at distance of closest approach\n",
      "Vmin = np.sqrt(2.*G*(M+S)/Rmin) #parabolic orbit\n",
      "\n",
      "#Angular momentum per unit mass at distance of closest approach\n",
      "hmin = Rmin*Vmin #r x v - angular momentum per unit mass \n",
      "\n",
      "#From the orbital equations, relationship between geometric and physical parameters\n",
      "c = hmin**2/(G*(M+S))\n",
      "beta = c/2.\n",
      "alpha = -1./(2*c)\n",
      "\n",
      "#Set a range of y values and compute the corresponding x,R values for initial points on a parabolic orbit\n",
      "y = np.arange(-80.,80.1,10.)\n",
      "x = beta + alpha*y**2\n",
      "\n",
      "R = np.sqrt(x**2+y**2)\n",
      "\n",
      "#unit tangent vector for the parabola\n",
      "T_x = 2*alpha*y/np.sqrt((2*alpha*y)**2+1)\n",
      "T_y = 1./np.sqrt((2*alpha*y)**2+1)\n",
      "\n",
      "#Velocity vector\n",
      "V = np.sqrt(2.*G*(M+S)/R)\n",
      "Vx = V*T_x\n",
      "Vy = V*T_y\n"
     ],
     "language": "python",
     "metadata": {},
     "outputs": [],
     "prompt_number": 3
    },
    {
     "cell_type": "code",
     "collapsed": false,
     "input": [
      "pi = np.pi\n",
      "def ring(particles,percent,G,M):\n",
      "    \n",
      "    radius = Rmin * percent\n",
      "    particle = []\n",
      "    velocity = []\n",
      "    theta_n = 0\n",
      "    arclen = (2*pi)/particles              ## Arc length equally divided amongst the number of particles around circle\n",
      "    v = sqrt((G*M)/radius)                 ## Velocity for central force to stay in a circular orbit\n",
      "    while len(particle) < particles:\n",
      "        angle = theta_n*arclen\n",
      "        beta = angle + (pi/2.)          ## Angle beta = angle of the position plus 90 degrees, for velocity vector\n",
      "        theta_n += 1\n",
      "        particle.append((radius*np.cos(angle), radius*np.sin(angle)))   ## x = r*cos(theta)  y = r*sin(theta)\n",
      "        velocity.append((v*np.cos(beta), v*np.sin(beta)))               ## Same concept here as above.\n",
      "    return np.array(particle),np.array(velocity)            ## Returns two arrays, particle position and velocity."
     ],
     "language": "python",
     "metadata": {},
     "outputs": [],
     "prompt_number": 24
    },
    {
     "cell_type": "code",
     "collapsed": false,
     "input": [
      "def init_rings_123(G,M):\n",
      "    ring1,velocity1 = ring(12,.2,G,M)     ## All of these are dependent on details found in the paper by Toomre et al.\n",
      "    ring2,velocity2 = ring(18,.3,G,M)\n",
      "    ring3,velocity3 = ring(24,.4,G,M)\n",
      "    ring4,velocity4 = ring(30,.5,G,M)\n",
      "    ring5,velocity5 = ring(36,.6,G,M)\n",
      "    rings = np.array([ring1,ring2,ring3,ring4,ring5])\n",
      "    velocity = np.array([velocity1,velocity2,velocity3,velocity4,velocity5])\n",
      "    return rings,velocity             ## Returns arrays of both"
     ],
     "language": "python",
     "metadata": {},
     "outputs": [],
     "prompt_number": 27
    },
    {
     "cell_type": "code",
     "collapsed": false,
     "input": [
      "def init_rings_4(G,M):\n",
      "    \n",
      "    '''\n",
      "    Arrange stars into rings located at a distance that is a \n",
      "    certain percentage of Rmin. Rmin is the minimum distance \n",
      "    between the disruptor galaxy and the disrupted galaxy. This \n",
      "    function is only used on the heavy mass disruptor case.\n",
      "    '''\n",
      "    \n",
      "    ring1,velocity1 = ring(12,.12,G,M)     ## The positions of the stars are dependent on details found in the paper by Toomre et al.\n",
      "    ring2,velocity2 = ring(18,.18,G,M)\n",
      "    ring3,velocity3 = ring(24,.24,G,M)\n",
      "    ring4,velocity4 = ring(30,.30,G,M)\n",
      "    ring5,velocity5 = ring(36,.36,G,M)\n",
      "    rings = np.array([ring1,ring2,ring3,ring4,ring5])\n",
      "    velocity = np.array([velocity1,velocity2,velocity3,velocity4,velocity5])\n",
      "    return rings,velocity             ## Returns arrays of both the positions and velocity.\n"
     ],
     "language": "python",
     "metadata": {},
     "outputs": [],
     "prompt_number": 28
    },
    {
     "cell_type": "code",
     "collapsed": false,
     "input": [
      "rings123, velocity123 = init_rings_123(G, M)\n",
      "rings4, velocit4 = init_rings_4(G,M)"
     ],
     "language": "python",
     "metadata": {},
     "outputs": [],
     "prompt_number": 29
    },
    {
     "cell_type": "code",
     "collapsed": false,
     "input": [
      "def unpack_rings_vel(rings,velocity):\n",
      "    rx_points = []                             ## x-coordinates of all massless particles\n",
      "    ry_points = []                             ## y-coordinates\n",
      "    vrx = []                                   ## initial x velocity\n",
      "    vry = []                                   ## initial y velocity\n",
      "    for ring in rings:\n",
      "        for point in ring:\n",
      "            rx_points.append(point[0])\n",
      "            ry_points.append(point[1])\n",
      "    for ring in velocity:\n",
      "        for point in ring:\n",
      "            vrx.append(point[0])\n",
      "            vry.append(point[1])\n",
      "    return np.array(rx_points), np.array(ry_points), np.array(vrx), np.array(vry)  ## Returns numpy arrays of values"
     ],
     "language": "python",
     "metadata": {},
     "outputs": [],
     "prompt_number": 7
    },
    {
     "cell_type": "code",
     "collapsed": false,
     "input": [
      "rx, ry, vrx, vry = unpack_rings_vel(rings, velocity)"
     ],
     "language": "python",
     "metadata": {},
     "outputs": [],
     "prompt_number": 8
    },
    {
     "cell_type": "code",
     "collapsed": false,
     "input": [
      "print len(rx), len(ry), len(vrx), len(vry)"
     ],
     "language": "python",
     "metadata": {},
     "outputs": [
      {
       "output_type": "stream",
       "stream": "stdout",
       "text": [
        "120 120 120 120\n"
       ]
      }
     ],
     "prompt_number": 9
    },
    {
     "cell_type": "code",
     "collapsed": false,
     "input": [
      "rx0 = rx\n",
      "ry0 = ry\n",
      "vrx0 = vrx\n",
      "vry0 = vry"
     ],
     "language": "python",
     "metadata": {},
     "outputs": [],
     "prompt_number": 10
    },
    {
     "cell_type": "code",
     "collapsed": false,
     "input": [],
     "language": "python",
     "metadata": {},
     "outputs": [],
     "prompt_number": 10
    },
    {
     "cell_type": "code",
     "collapsed": false,
     "input": [],
     "language": "python",
     "metadata": {},
     "outputs": [],
     "prompt_number": 10
    },
    {
     "cell_type": "code",
     "collapsed": false,
     "input": [
      "def derivstar(y,t,M,S):\n",
      "    G = 4.49955370898e-08 #kpc^3 M_sol^-1 unitTime^-2\n",
      "    Rx = y[0]\n",
      "    Vx = y[1]\n",
      "\n",
      "    Ry = y[2]\n",
      "    Vy = y[3]\n",
      "    \n",
      "    rxs = y[4]\n",
      "    vrx = y[5]\n",
      "    \n",
      "    rys = y[6]\n",
      "    vry = y[7]\n",
      "    \n",
      "    delta_x = (Rx-rxs)\n",
      "    delta_y = (Ry-rys)\n",
      "    \n",
      "    R = sqrt(Rx**2+Ry**2)\n",
      "    \n",
      "    dvrx_dt = -G * ((M/sqrt(rxs**2. + rys**2.)**3.)*rxs - (S/sqrt(delta_x**2.+delta_y**2.)**3.)*delta_x \n",
      "                                                        + (S/sqrt(Rx**2.+Ry**2.)**3.)*Rx)\n",
      "    dvry_dt = -G * ((M/sqrt(rxs**2. + rys**2.)**3.)*rys - (S/sqrt(delta_x**2.+delta_y**2.)**3.)*delta_y \n",
      "                                                        + (S/sqrt(Rx**2.+Ry**2.)**3.)*Ry)\n",
      "    \n",
      "    dvRx_dt = -G * ((M+S)/(sqrt(Rx**2+Ry**2))**3)*Rx\n",
      "    dvRy_dt = -G * ((M+S)/(sqrt(Rx**2+Ry**2))**3)*Ry\n",
      "    \n",
      "    return np.array([Vx, dvRx_dt, Vy, dvRy_dt, vrx, dvrx_dt, vry, dvry_dt])\n"
     ],
     "language": "python",
     "metadata": {},
     "outputs": [],
     "prompt_number": 11
    },
    {
     "cell_type": "code",
     "collapsed": false,
     "input": [
      "Make_Master_Array(Case = 1, Rx0 = )\n",
      "#Run the simulation for two full revolutions in small steps.\n",
      "tmax = 20.\n",
      "dt = 0.007\n",
      "ts = np.arange(0.,tmax+dt/10.,dt)\n",
      "\n",
      "MasterArray = []\n",
      "#compute results for each star\n",
      "\n",
      "\n",
      "for i in range(len(rx0)):\n",
      "    output = odeint(derivstar, np.array([x[0],Vx[0],y[0],Vy[0], rx0[i],vrx0[i],ry0[i],vry0[i]]),\n",
      "                        ts, args=(M,S))\n",
      "    rxss = output[:,4]                \n",
      "    ryss = output[:,6]\n",
      "            \n",
      "    if i == 0:\n",
      "            \n",
      "        Rx = output[:,0] ## Solve the ODE for each index and output the position values\n",
      "        Ry = output[:,2]                ## Used n == 0 for both legend clarity and to minimize the x/y\n",
      "                                            ## value of the disruptor galaxy to one point.\n",
      "                \n",
      "        MasterArray.append(Rx)\n",
      "        MasterArray.append(Ry)\n",
      "        MasterArray.append(rxss)\n",
      "        MasterArray.append(ryss)\n",
      "                        \n",
      "            \n",
      "    else:\n",
      "        MasterArray.append(rxss)\n",
      "        MasterArray.append(ryss)"
     ],
     "language": "python",
     "metadata": {},
     "outputs": [],
     "prompt_number": 12
    },
    {
     "cell_type": "code",
     "collapsed": false,
     "input": [
      "results = MasterArray\n",
      "#print results"
     ],
     "language": "python",
     "metadata": {},
     "outputs": [],
     "prompt_number": 13
    },
    {
     "cell_type": "code",
     "collapsed": false,
     "input": [
      "def Make_Plot_stars(t = dt, dt=fixed(dt)):\n",
      "    index = int(t/dt)\n",
      "    \n",
      "    Rx = results[0][:index]\n",
      "    Ry = results[1][:index]\n",
      "    RxS = xCM + (M/(M+S))*Rx\n",
      "    RyS = yCM + (M/(M+S))*Ry\n",
      "    RxM = xCM - (S/(M+S))*Rx\n",
      "    RyM = yCM - (S/(M+S))*Ry\n",
      "    plt.plot(RxS, RyS, 'b--', label = 'Disturbing Galaxy')\n",
      "    plt.plot(RxS[-1], RyS[-1], 'bo')\n",
      "    plt.plot(RxM, RyM, 'r--', label = 'Main Galaxy')\n",
      "    plt.plot(RxM[-1], RyM[-1], 'ro')\n",
      "    for i in range(1, 121):\n",
      "        plt.plot(results[2*i][index]+RxM[-1], results[2*i + 1][index]+RyM[-1], 'go', label = \"Stars\")\n",
      "        \n",
      "    plt.xlim(1.1*x[0],xCM-1.1*x[0])\n",
      "    plt.ylim(1.1*y[0],yCM-1.1*y[0])\n",
      "    plt.xlim(-100,100)\n",
      "    plt.ylim(-100,100)\n",
      "    plt.grid()\n",
      "    #plt.legend(loc='upper center', bbox_to_anchor=(0.5, 1.15),\n",
      "          #ncol=2, fancybox=True, shadow=True)\n",
      "    plt.show()"
     ],
     "language": "python",
     "metadata": {},
     "outputs": [],
     "prompt_number": 14
    },
    {
     "cell_type": "code",
     "collapsed": false,
     "input": [
      "a = interact(Make_Plot_stars,t = (dt,tmax), dt = fixed(dt))"
     ],
     "language": "python",
     "metadata": {},
     "outputs": [
      {
       "metadata": {},
       "output_type": "display_data",
       "png": "[encoded data removed]",
       "text": [
        "<matplotlib.figure.Figure at 0xa786668>"
       ]
      }
     ],
     "prompt_number": 15
    },
    {
     "cell_type": "code",
     "collapsed": false,
     "input": [
      "def Make_Plot_M(t = dt, dt=fixed(dt)):\n",
      "    index = int(t/dt)\n",
      "    \n",
      "    Rx = results[0][:index]\n",
      "    Ry = results[1][:index]\n",
      "    RxS = xCM + (M/(M+S))*Rx\n",
      "    RyS = yCM + (M/(M+S))*Ry\n",
      "    RxM = xCM - (S/(M+S))*Rx\n",
      "    RyM = yCM - (S/(M+S))*Ry\n",
      "    RxS -= RxM\n",
      "    RyS -= RyM\n",
      "    RxM -= RxM\n",
      "    RyM -= RyM\n",
      "    plt.plot(RxS, RyS, 'b--', label = 'Disturbing Galaxy')\n",
      "    plt.plot(RxS[-1], RyS[-1], 'bo')\n",
      "    plt.plot(RxM, RyM, 'r--', label = 'Main Galaxy')\n",
      "    plt.plot(RxM[-1], RyM[-1], 'ro')\n",
      "    for i in range(1, 121):\n",
      "        plt.plot(results[2*i][index]+RxM[-1], results[2*i + 1][index]+RyM[-1], 'go', label = \"Stars\")\n",
      "        \n",
      "    plt.xlim(1.1*x[0],xCM-1.1*x[0])\n",
      "    plt.ylim(1.1*y[0],yCM-1.1*y[0])\n",
      "    plt.xlim(-100,100)\n",
      "    plt.ylim(-100,100)\n",
      "    plt.grid()\n",
      "    #plt.legend(loc='upper center', bbox_to_anchor=(0.5, 1.15),\n",
      "          #ncol=2, fancybox=True, shadow=True)\n",
      "    plt.show()"
     ],
     "language": "python",
     "metadata": {},
     "outputs": [],
     "prompt_number": 22
    },
    {
     "cell_type": "code",
     "collapsed": false,
     "input": [
      "b = interact(Make_Plot_M,t = (dt,tmax), dt = fixed(dt))"
     ],
     "language": "python",
     "metadata": {},
     "outputs": [
      {
       "metadata": {},
       "output_type": "display_data",
       "png": "[encoded data removed]",
       "text": [
        "<matplotlib.figure.Figure at 0xcbe9a90>"
       ]
      }
     ],
     "prompt_number": 23
    },
    {
     "cell_type": "code",
     "collapsed": false,
     "input": [],
     "language": "python",
     "metadata": {},
     "outputs": []
    }
   ],
   "metadata": {}
  }
 ]
}