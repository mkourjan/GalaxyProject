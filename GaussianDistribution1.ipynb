{
 "metadata": {
  "name": "",
  "signature": "sha256:e46c84f456b14d69a0a20654fc96618324de48e905e1c56410d5e6373d61365e"
 },
 "nbformat": 3,
 "nbformat_minor": 0,
 "worksheets": [
  {
   "cells": [
    {
     "cell_type": "code",
     "collapsed": false,
     "input": [
      "\n",
      "import numpy as np\n",
      "import matplotlib.pyplot as plt\n",
      "%matplotlib inline\n",
      "import random"
     ],
     "language": "python",
     "metadata": {},
     "outputs": [],
     "prompt_number": 1
    },
    {
     "cell_type": "code",
     "collapsed": false,
     "input": [
      "Rs = 50\n",
      "r = np.arange(0,100, 0.1)\n",
      "lim = 0.1\n",
      "def Prob_rad(r, Rs, lim):\n",
      "    return lim / ((r/Rs + lim)* (1 + (r/Rs)) ** 2)\n",
      "a = Prob_rad(r, 50, 1)\n",
      "plt.plot(r, a)\n",
      "plt.show()"
     ],
     "language": "python",
     "metadata": {},
     "outputs": [
      {
       "metadata": {},
       "output_type": "display_data",
       "png": "[encoded data removed]",
       "text": [
        "<matplotlib.figure.Figure at 0xae133c8>"
       ]
      }
     ],
     "prompt_number": 2
    },
    {
     "cell_type": "code",
     "collapsed": false,
     "input": [
      "def Star_Gen(Rs, lim, n, ran):\n",
      "    ''' -Rs affects how dense the stars are in the center.  \n",
      "    Low Rs values give me a dense center, high values give me a spreadout center.\n",
      "    -The lower lim is, the closer the probability distribution is to to the origin.\n",
      "    -n is how many stars we generate.\n",
      "    -ran is the maximum radius.\n",
      "    -The function outputs random radiuses that are based on a distribution.\n",
      "    '''\n",
      "    radius = []\n",
      "    for i in range(n):\n",
      "        #r is the random radius of the star from the center of mass\n",
      "        r = random.random() * ran \n",
      "        #Pr is the probability of finding a star at a particular radius.\n",
      "        pr = Prob_rad(r, Rs, lim)\n",
      "        #s are randomly generated numbers that filter out which stars get graphed \n",
      "        #by checking if it falls below the probability distribution graph.\n",
      "        s = random.random()\n",
      "        #While s is greater than pr, generate more r and Pr and s values.  \n",
      "        #When s becomes less than pr, append that to the radius list.\n",
      "        while s > pr :\n",
      "            r = random.random() * ran\n",
      "            Pr = Prob_rad(r, Rs, lim)\n",
      "            s = random.random()\n",
      "        radius.append(r)\n",
      "    return np.array(radius)"
     ],
     "language": "python",
     "metadata": {},
     "outputs": [],
     "prompt_number": 3
    },
    {
     "cell_type": "code",
     "collapsed": false,
     "input": [
      "def theta(n):\n",
      "    '''The theta function takes n(the number of stars) as an imput\n",
      "    and returns random theta angles to randomly distribute those stars.'''\n",
      "    theta = []\n",
      "    for i in range(n):\n",
      "        t = random.random() * 2 * np.pi\n",
      "        theta.append(t)\n",
      "    return np.array(theta)"
     ],
     "language": "python",
     "metadata": {},
     "outputs": [],
     "prompt_number": 4
    },
    {
     "cell_type": "code",
     "collapsed": false,
     "input": [
      "def coordinate(r, t):\n",
      "    '''Converts radius and theta into x and y coordinates.'''\n",
      "    x = r * np.cos(t)\n",
      "    y = r * np.sin(t)\n",
      "    return x, y\n"
     ],
     "language": "python",
     "metadata": {},
     "outputs": [],
     "prompt_number": 5
    },
    {
     "cell_type": "code",
     "collapsed": false,
     "input": [
      "rads =Star_Gen(5, 0.1, 100, 100)\n",
      "thetas = theta(100)\n",
      "x, y= coordinate(rads, thetas)\n",
      "plt.figure(figsize = (10, 10))\n",
      "\n",
      "plt.scatter(x, y, marker = '.', linewidths = 0, color = 'b', s = 20)\n",
      "\n",
      "plt.show()"
     ],
     "language": "python",
     "metadata": {},
     "outputs": [
      {
       "metadata": {},
       "output_type": "display_data",
       "png": "[encoded data removed]",
       "text": [
        "<matplotlib.figure.Figure at 0xaf2d828>"
       ]
      }
     ],
     "prompt_number": 6
    },
    {
     "cell_type": "code",
     "collapsed": false,
     "input": [
      "def ring(rads, G, M):\n",
      "    beta = thetas + 90\n",
      "    velocity_x = []\n",
      "    velocity_y = []\n",
      "    v = sqrt((G*M)/rads)\n",
      "    for i in range(100):\n",
      "        velocity_x.append(v*np.cos(beta)) \n",
      "        velocity_y.append(v*np.sin(beta))\n",
      "    return x, "
     ],
     "language": "python",
     "metadata": {},
     "outputs": [],
     "prompt_number": 7
    },
    {
     "cell_type": "code",
     "collapsed": false,
     "input": [],
     "language": "python",
     "metadata": {},
     "outputs": [],
     "prompt_number": 7
    },
    {
     "cell_type": "code",
     "collapsed": false,
     "input": [],
     "language": "python",
     "metadata": {},
     "outputs": []
    }
   ],
   "metadata": {}
  }
 ]
}