{
 "metadata": {
  "name": "",
  "signature": "sha256:eb26519361c782599b274e3d4d6534ca924035a335573fbf55d8ed0bc11a7941"
 },
 "nbformat": 3,
 "nbformat_minor": 0,
 "worksheets": [
  {
   "cells": [
    {
     "cell_type": "code",
     "collapsed": false,
     "input": [
      "\n",
      "%pylab inline\n",
      "import numpy as np\n",
      "import matplotlib.pyplot as plt\n",
      "from scipy.integrate import odeint\n",
      "from IPython.html.widgets import interact, interactive\n",
      "import random"
     ],
     "language": "python",
     "metadata": {},
     "outputs": [
      {
       "output_type": "stream",
       "stream": "stdout",
       "text": [
        "Populating the interactive namespace from numpy and matplotlib\n"
       ]
      }
     ],
     "prompt_number": 1
    },
    {
     "cell_type": "code",
     "collapsed": false,
     "input": [
      "n = 120\n",
      "\n",
      "M = 1e11 #solar masses\n",
      "S = 1e11\n",
      "G = 4.49955370898e-08 #kpc^3 Msol^-1 (10^8 years)^-2\n",
      "\n",
      "\n",
      "Rs = 50\n",
      "r = np.arange(0,100, 0.1)\n",
      "lim = 0.1\n",
      "def Prob_rad(r, Rs, lim):\n",
      "    return lim / ((r/Rs + lim)* (1 + (r/Rs)) ** 2)\n",
      "a = Prob_rad(r, 50, 1)\n",
      "plt.plot(r, a)\n",
      "plt.show()"
     ],
     "language": "python",
     "metadata": {},
     "outputs": [
      {
       "metadata": {},
       "output_type": "display_data",
       "png": "[encoded data removed]",
       "text": [
        "<matplotlib.figure.Figure at 0xa199a20>"
       ]
      }
     ],
     "prompt_number": 2
    },
    {
     "cell_type": "code",
     "collapsed": false,
     "input": [
      "def Star_Gen(Rs, lim, n, ran):\n",
      "    ''' -Rs affects how dense the stars are in the center.  \n",
      "    Low Rs values give me a dense center, high values give me a spreadout center.\n",
      "    -The lower lim is, the closer the probability distribution is to to the origin.\n",
      "    -n is how many stars we generate.\n",
      "    -ran is the maximum radius.\n",
      "    -The function outputs random radiuses that are based on a distribution.\n",
      "    '''\n",
      "    radius = []\n",
      "    for i in range(n):\n",
      "        #r is the random radius of the star from the center of mass\n",
      "        r = random.random() * ran \n",
      "        #Pr is the probability of finding a star at a particular radius.\n",
      "        pr = Prob_rad(r, Rs, lim)\n",
      "        #s are randomly generated numbers that filter out which stars get graphed \n",
      "        #by checking if it falls below the probability distribution graph.\n",
      "        s = random.random()\n",
      "        #While s is greater than pr, generate more r and Pr and s values.  \n",
      "        #When s becomes less than pr, append that to the radius list.\n",
      "        while s > pr :\n",
      "            r = random.random() * ran\n",
      "            Pr = Prob_rad(r, Rs, lim)\n",
      "            s = random.random()\n",
      "        radius.append(r)\n",
      "    return np.array(radius)"
     ],
     "language": "python",
     "metadata": {},
     "outputs": [],
     "prompt_number": 3
    },
    {
     "cell_type": "code",
     "collapsed": false,
     "input": [
      "def theta(n):\n",
      "    '''The theta function takes n(the number of stars) as an imput\n",
      "    and returns random theta angles to randomly distribute those stars.'''\n",
      "    theta = []\n",
      "    for i in range(n):\n",
      "        t = random.random() * 2 * np.pi\n",
      "        theta.append(t)\n",
      "    return np.array(theta)"
     ],
     "language": "python",
     "metadata": {},
     "outputs": [],
     "prompt_number": 4
    },
    {
     "cell_type": "code",
     "collapsed": false,
     "input": [
      "theta = theta(n)"
     ],
     "language": "python",
     "metadata": {},
     "outputs": [],
     "prompt_number": 5
    },
    {
     "cell_type": "code",
     "collapsed": false,
     "input": [
      "def coordinate(r):\n",
      "    '''Converts radius and theta into x and y coordinates.'''\n",
      "    x = r * np.cos(theta)\n",
      "    y = r * np.sin(theta)\n",
      "    return x, y\n"
     ],
     "language": "python",
     "metadata": {},
     "outputs": [],
     "prompt_number": 6
    },
    {
     "cell_type": "code",
     "collapsed": false,
     "input": [
      "rads =Star_Gen(5, 0.1, 120, 1)\n",
      "\n",
      "x, y= coordinate(rads)\n",
      "plt.figure(figsize = (10, 10))\n",
      "\n",
      "plt.scatter(x, y, marker = '.', linewidths = 0, color = 'b', s = 20)\n",
      "\n",
      "plt.show()"
     ],
     "language": "python",
     "metadata": {},
     "outputs": [
      {
       "metadata": {},
       "output_type": "display_data",
       "png": "[encoded data removed]",
       "text": [
        "<matplotlib.figure.Figure at 0xa22fcf8>"
       ]
      }
     ],
     "prompt_number": 7
    },
    {
     "cell_type": "code",
     "collapsed": false,
     "input": [
      "def ring(rads, G, M):\n",
      "    beta = theta + 90\n",
      "    velocity_x = []\n",
      "    velocity_y = []\n",
      "    v = np.sqrt((G*M)/rads)\n",
      "    \n",
      "    velocity_x.append(v*np.cos(beta)) \n",
      "    velocity_y.append(v*np.sin(beta))\n",
      "    return velocity_x, velocity_y "
     ],
     "language": "python",
     "metadata": {},
     "outputs": [],
     "prompt_number": 8
    },
    {
     "cell_type": "code",
     "collapsed": false,
     "input": [],
     "language": "python",
     "metadata": {},
     "outputs": [],
     "prompt_number": 8
    },
    {
     "cell_type": "code",
     "collapsed": false,
     "input": [
      "velocity_X, velocity_Y = ring(rads, G, M)"
     ],
     "language": "python",
     "metadata": {},
     "outputs": [],
     "prompt_number": 9
    },
    {
     "cell_type": "code",
     "collapsed": false,
     "input": [
      "def derivgalaxy(y,t,M,S):\n",
      "    \n",
      "    '''\n",
      "    Function extracts information from the 4 arrays in unpack_rings_vel\n",
      "    function and plugs the values into the given differential equations\n",
      "    that describe the motion of the stars and the motion of the disruptor\n",
      "    galaxy.  The output is a single array.\n",
      "    '''\n",
      "    \n",
      "    G = 4.302e-3 #pc(M_solar)^-1 (km/s)^2\n",
      "    vRx = y[0]\n",
      "    vRy = y[2]\n",
      "    Rx = y[1]\n",
      "    Ry = y[3]\n",
      "    vrx = y[4]\n",
      "    vry = y[6]\n",
      "    rx = y[5]\n",
      "    ry = y[7]\n",
      "    R = np.sqrt(Rx**2+Ry**2)\n",
      "    delta_x = (Rx-rx)\n",
      "    delta_y = (Ry-ry)\n",
      "    \n",
      "    dvrx_dt = -G * ((M/np.sqrt(rx**2. + ry**2.)**3.)*rx - (S/np.sqrt(delta_x**2.+delta_y**2.)**3.)*delta_x #Given differential equation describing the motion of the stars.\n",
      "                                                        + (S/np.sqrt(Rx**2.+Ry**2.)**3.)*Rx)\n",
      "    dvry_dt = -G * ((M/np.sqrt(rx**2. + ry**2.)**3.)*ry - (S/np.sqrt(delta_x**2.+delta_y**2.)**3.)*delta_y \n",
      "                                                        + (S/np.sqrt(Rx**2.+Ry**2.)**3.)*Ry)\n",
      "    \n",
      "    dvRx_dt = -G * ((M+S)/(np.sqrt(Rx**2+Ry**2))**3)*Rx #Given differential equation describing the motion of the Disruptor Galaxy.\n",
      "    dvRy_dt = -G * ((M+S)/(np.sqrt(Rx**2+Ry**2))**3)*Ry\n",
      "    \n",
      "    return np.array([dvRx_dt, vRx, dvRy_dt, vRy, dvrx_dt, vrx, dvry_dt, vry])"
     ],
     "language": "python",
     "metadata": {},
     "outputs": [],
     "prompt_number": 10
    },
    {
     "cell_type": "code",
     "collapsed": false,
     "input": [
      "print x, y"
     ],
     "language": "python",
     "metadata": {},
     "outputs": [
      {
       "output_type": "stream",
       "stream": "stdout",
       "text": [
        "[-0.18372019 -0.04748631 -0.83705346 -0.01519953 -0.38277419 -0.06670833\n",
        " -0.2019424   0.93078414 -0.01072028 -0.40204004 -0.22018348 -0.31139655\n",
        " -0.70515156 -0.11051851 -0.16590216  0.77873492  0.03997263  0.67514909\n",
        "  0.26925365  0.12104472  0.25071615 -0.28090296 -0.00739136  0.94230347\n",
        "  0.19479557 -0.12188847 -0.17445421 -0.23525574  0.09200025  0.47081476\n",
        " -0.07295481  0.09697692  0.25260791  0.13792123  0.31639544 -0.13644251\n",
        " -0.20965281 -0.00731684 -0.02469367  0.03091369 -0.3220932  -0.28960437\n",
        " -0.34169702  0.10262739 -0.39321331  0.10641523  0.33022195 -0.44603808\n",
        " -0.0228461   0.64024924 -0.0272423   0.37704819 -0.40144362 -0.62461886\n",
        "  0.04868399  0.15988851  0.01707951  0.00267521  0.28117699 -0.15592636\n",
        "  0.18972743 -0.37258029  0.18727348 -0.00588219 -0.28824557 -0.73047498\n",
        " -0.01188563 -0.01474948 -0.1383859   0.23302925  0.02986765 -0.52364547\n",
        " -0.13222477 -0.16880028 -0.62686489  0.00985435 -0.71617925  0.75058044\n",
        " -0.0633796  -0.05531406  0.61216849 -0.0037345  -0.06300445  0.13606342\n",
        " -0.07795407  0.20957866 -0.45809965  0.60333224 -0.23207279 -0.08601006\n",
        " -0.60520742  0.14417498 -0.05441257  0.05123372 -0.46889358  0.41799988\n",
        "  0.52258175 -0.44540871  0.37751733 -0.10017594 -0.16505162  0.10711013\n",
        " -0.37036959 -0.04282666  0.1598965   0.72252421 -0.23143321  0.7244008\n",
        " -0.40056718  0.17843373  0.17632545  0.15726882 -0.41931573 -0.22272456\n",
        " -0.52111508  0.07476794 -0.01766781 -0.19607424  0.60530794 -0.83824064] [ -9.92746711e-02   5.46229876e-02  -3.24066900e-01  -2.02897064e-01\n",
        "   3.61878133e-01   4.83105388e-01  -1.87933174e-02  -2.45974067e-01\n",
        "   9.45108105e-03   2.33582138e-01  -3.84468034e-01  -2.02806456e-01\n",
        "   6.66483511e-01   8.33361939e-03   3.32285306e-01  -9.49944639e-02\n",
        "  -1.64533508e-01  -1.72135299e-01   7.67378110e-01   3.55064273e-01\n",
        "  -1.22870627e-01  -5.40221933e-01  -2.31350527e-01  -2.05021740e-01\n",
        "   1.02259885e-01   4.05659463e-02   1.18852189e-01  -2.31674559e-01\n",
        "   7.71448460e-03  -5.92594339e-01   6.94628728e-03  -3.02528426e-01\n",
        "   2.58635415e-01   2.00060088e-01   1.47460214e-01   6.97292192e-01\n",
        "  -2.44243741e-01   3.01281273e-01  -5.58223235e-03  -7.38447527e-02\n",
        "   4.69123150e-01   2.26841843e-01  -5.70838282e-01   9.70927492e-02\n",
        "  -4.03605006e-01   6.50353632e-01  -1.24612112e-01   2.54528669e-01\n",
        "   2.90849789e-01   1.82175757e-01  -8.72328119e-02   1.38594077e-01\n",
        "   1.37409176e-01  -2.57588907e-01   3.61112461e-02   1.38221135e-01\n",
        "  -7.71493117e-02   2.81057317e-02   7.65513138e-01  -5.28328257e-01\n",
        "   2.96464866e-01  -4.54574583e-02  -4.74993777e-01  -5.85087535e-04\n",
        "   1.09003962e-01   6.24055737e-01  -6.47248901e-03  -3.24171430e-01\n",
        "   5.72953237e-01  -4.02464560e-01  -6.40017456e-02  -2.25386462e-01\n",
        "   5.29584043e-01  -3.19761156e-01   6.76562645e-01  -7.68648391e-01\n",
        "  -1.16136093e-01   1.38066156e-01  -7.80462806e-02   7.83142188e-02\n",
        "  -2.29474376e-01  -1.32676237e-02   5.71537053e-02  -1.45997625e-01\n",
        "   3.43424099e-01   4.75175300e-01   4.39633766e-01  -1.83344715e-03\n",
        "  -6.89797123e-02  -6.93237186e-01  -5.88583380e-01   4.50986401e-01\n",
        "  -5.07602799e-01   6.45640400e-01   8.60865212e-01  -5.26838399e-03\n",
        "   1.53982498e-01   7.63039440e-01  -4.02900218e-01  -1.38662136e-01\n",
        "  -1.93477791e-01  -1.17676005e-01   3.36852470e-01   2.38302613e-01\n",
        "   1.45307340e-01   2.68461331e-01   9.65458044e-01   3.87658985e-01\n",
        "  -2.16604540e-01   3.43353117e-01   4.11822204e-01   5.13687984e-01\n",
        "   1.82891288e-01   3.39617263e-01  -7.84504796e-01   1.79329692e-02\n",
        "  -1.30113032e-02  -1.64876232e-02  -7.23835875e-02   3.72771324e-01]\n"
       ]
      }
     ],
     "prompt_number": 15
    },
    {
     "cell_type": "code",
     "collapsed": false,
     "input": [
      "def Make_Master_Array(Rx0 = -8, Ry0 = -9,Initial_velocity_X = 0.85,Initial_velocity_Y = 0.65,t = 11., M=330., S=330., dt = 0.01):\n",
      "    \n",
      "    '''\n",
      "    The function takes the single array from derivgalaxy and plugs it into\n",
      "    the odeint solver.  The function then filters out the information associated\n",
      "    with the positions of the disruptor galaxy and stars at all timesteps between\n",
      "    0 and 20 with 0.0075 intervals.  The output is a 2 dimension matrix where the \n",
      "    columns represent positions of the disruptor galaxy and all of the stars, and the\n",
      "    rows represent a particular time.\n",
      "    '''\n",
      "    \n",
      "    G = 4.302e-3 #pc(M_solar)^-1 (km/s)^2\\\n",
      "    \n",
      "    \n",
      "    rx0,ry0,vrx_0,vry_0 = x[0], y[0], velocity_X[0], velocity_Y[0]\n",
      "    vRx_0 = Initial_velocity_X          ## Initial velocity of disruptor galaxy in x direction\n",
      "    vRy_0 = Initial_velocity_Y          ## Initial velocity of disruptor galaxy in y direction\n",
      "    \n",
      "    ts = np.arange(0.,t+0.1,0.0075)\n",
      "    \n",
      "    MasterArray = []\n",
      "    \n",
      "    for n in range(len(rx0)):   ## Runs for all 120 particles in initial condition vectors.\n",
      "        \n",
      "        output = odeint(derivgalaxy, np.array([vRx_0,Rx0,vRy_0,Ry0,vrx_0,rx0,vry_0,ry0]),\n",
      "                        ts, args=(M, S)) ## Solve the differential equation for each time index \n",
      "                                         ##and output the position values of the stars and disruptor galaxy.\n",
      "            \n",
      "        \n",
      "        rx = output[:,5]                \n",
      "        ry = output[:,7]\n",
      "            \n",
      "        if n == 0:\n",
      "            \n",
      "            Rx = output[:,1] \n",
      "            Ry = output[:,3]                \n",
      "            \n",
      "            MasterArray.append(Rx)\n",
      "            MasterArray.append(Ry)\n",
      "            MasterArray.append(rx)\n",
      "            MasterArray.append(ry)\n",
      "                        \n",
      "            \n",
      "        else:\n",
      "            MasterArray.append(rx)\n",
      "            MasterArray.append(ry)\n",
      "            \n",
      "    return MasterArray\n"
     ],
     "language": "python",
     "metadata": {},
     "outputs": [],
     "prompt_number": 11
    },
    {
     "cell_type": "code",
     "collapsed": false,
     "input": [
      "def Make_Plots(results,t, dt):\n",
      "    \n",
      "    '''\n",
      "    Function extracts all positions of stars and the disruptor galaxy from a matrix and plots them.\n",
      "    This is the Direct Passage situation.\n",
      "    '''\n",
      "    \n",
      "    index = int(t/dt)\n",
      "    plt.figure(figsize = (7, 7))\n",
      "    plt.grid()\n",
      "    plt.xlim(-10,7)\n",
      "    plt.ylim(-16,15)\n",
      "    plt.plot(results[0][:index], results[1][:index], 'b--', label = 'Disturbant Galaxy')\n",
      "    for i in range(1,121):\n",
      "        plt.plot(results[2*i][index], results[2*i + 1][index], 'ro', label = \"Stars\")\n",
      "    plt.show()"
     ],
     "language": "python",
     "metadata": {},
     "outputs": [],
     "prompt_number": 12
    },
    {
     "cell_type": "code",
     "collapsed": false,
     "input": [
      "results_A = Make_Master_Array(Rx0 = -8, Ry0 = -9, Initial_velocity_X = 0.85,Initial_velocity_Y = 0.65,t = 20, M=330., S=330., dt = 0.0075)\n",
      "#Direct Passage "
     ],
     "language": "python",
     "metadata": {},
     "outputs": [
      {
       "ename": "ValueError",
       "evalue": "setting an array element with a sequence.",
       "output_type": "pyerr",
       "traceback": [
        "\u001b[1;31m---------------------------------------------------------------------------\u001b[0m\n\u001b[1;31mValueError\u001b[0m                                Traceback (most recent call last)",
        "\u001b[1;32m<ipython-input-13-8b9abf21696b>\u001b[0m in \u001b[0;36m<module>\u001b[1;34m()\u001b[0m\n\u001b[1;32m----> 1\u001b[1;33m \u001b[0mresults_A\u001b[0m \u001b[1;33m=\u001b[0m \u001b[0mMake_Master_Array\u001b[0m\u001b[1;33m(\u001b[0m\u001b[0mRx0\u001b[0m \u001b[1;33m=\u001b[0m \u001b[1;33m-\u001b[0m\u001b[1;36m8\u001b[0m\u001b[1;33m,\u001b[0m \u001b[0mRy0\u001b[0m \u001b[1;33m=\u001b[0m \u001b[1;33m-\u001b[0m\u001b[1;36m9\u001b[0m\u001b[1;33m,\u001b[0m \u001b[0mInitial_velocity_X\u001b[0m \u001b[1;33m=\u001b[0m \u001b[1;36m0.85\u001b[0m\u001b[1;33m,\u001b[0m\u001b[0mInitial_velocity_Y\u001b[0m \u001b[1;33m=\u001b[0m \u001b[1;36m0.65\u001b[0m\u001b[1;33m,\u001b[0m\u001b[0mt\u001b[0m \u001b[1;33m=\u001b[0m \u001b[1;36m20\u001b[0m\u001b[1;33m,\u001b[0m \u001b[0mM\u001b[0m\u001b[1;33m=\u001b[0m\u001b[1;36m330.\u001b[0m\u001b[1;33m,\u001b[0m \u001b[0mS\u001b[0m\u001b[1;33m=\u001b[0m\u001b[1;36m330.\u001b[0m\u001b[1;33m,\u001b[0m \u001b[0mdt\u001b[0m \u001b[1;33m=\u001b[0m \u001b[1;36m0.0075\u001b[0m\u001b[1;33m)\u001b[0m\u001b[1;33m\u001b[0m\u001b[0m\n\u001b[0m\u001b[0;32m      2\u001b[0m \u001b[1;31m#Direct Passage\u001b[0m\u001b[1;33m\u001b[0m\u001b[1;33m\u001b[0m\u001b[0m\n",
        "\u001b[1;32m<ipython-input-11-661b51fb4e71>\u001b[0m in \u001b[0;36mMake_Master_Array\u001b[1;34m(Rx0, Ry0, Initial_velocity_X, Initial_velocity_Y, t, M, S, dt)\u001b[0m\n\u001b[0;32m     23\u001b[0m     \u001b[1;32mfor\u001b[0m \u001b[0mn\u001b[0m \u001b[1;32min\u001b[0m \u001b[0mrange\u001b[0m\u001b[1;33m(\u001b[0m\u001b[0mlen\u001b[0m\u001b[1;33m(\u001b[0m\u001b[0mrx0\u001b[0m\u001b[1;33m)\u001b[0m\u001b[1;33m)\u001b[0m\u001b[1;33m:\u001b[0m   \u001b[1;31m## Runs for all 120 particles in initial condition vectors.\u001b[0m\u001b[1;33m\u001b[0m\u001b[0m\n\u001b[0;32m     24\u001b[0m \u001b[1;33m\u001b[0m\u001b[0m\n\u001b[1;32m---> 25\u001b[1;33m         output = odeint(derivgalaxy, np.array([vRx_0,Rx0,vRy_0,Ry0,vrx_0[n],rx0[n],vry_0[n],ry0[n]]),\n\u001b[0m\u001b[0;32m     26\u001b[0m                         ts, args=(M, S)) ## Solve the differential equation for each time index \n\u001b[0;32m     27\u001b[0m                                          \u001b[1;31m##and output the position values of the stars and disruptor galaxy.\u001b[0m\u001b[1;33m\u001b[0m\u001b[1;33m\u001b[0m\u001b[0m\n",
        "\u001b[1;31mValueError\u001b[0m: setting an array element with a sequence."
       ]
      }
     ],
     "prompt_number": 13
    },
    {
     "cell_type": "code",
     "collapsed": false,
     "input": [],
     "language": "python",
     "metadata": {},
     "outputs": []
    }
   ],
   "metadata": {}
  }
 ]
}